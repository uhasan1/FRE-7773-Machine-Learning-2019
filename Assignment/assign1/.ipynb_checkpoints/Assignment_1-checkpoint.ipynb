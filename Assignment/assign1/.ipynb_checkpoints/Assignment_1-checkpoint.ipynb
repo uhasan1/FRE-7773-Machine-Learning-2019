{
 "cells": [
  {
   "cell_type": "markdown",
   "metadata": {},
   "source": [
    "# Assignment 1\n",
    "\n",
    "The purpose of this assignment is to serve as a \"check-point\" on your knowledge of\n",
    "- Jupyter\n",
    "- NumPy, Pandas\n",
    "- The very basic elements of sklearn\n",
    "- Notebook style\n",
    "\n",
    "You will construct a linear regression model to predict the return of a ticker, given the returns of an index (SPY).  You will source the data, assemble it into a useful form, and transform it as needed.  Finally, you will use sklearn to build the model and evaluate it using the RMSE Performance metric."
   ]
  },
  {
   "cell_type": "markdown",
   "metadata": {},
   "source": [
    "# Instructions\n",
    "You will need to complete this notebook.  The final result should follow the style of our Recipe for ML (see Geron, Appendix B) as appropriate\n",
    "\n",
    "Your task is to complete the coding sections, and to add sections that discus the problem, the data, and your exploration process.  We have only supplied the required coding sections.  The rest is up to you.\n",
    "\n",
    "1. Code sections\n",
    "    - We have given you an outline of the code, with missing elements\n",
    "    - The <span style=\"color:red\">Red Section Headers</span> contain code templates that you need to complete\n",
    "        - We have supplied the signature for the functions, and a specification\n",
    "        - Your job is to implement the function so as to satisfy the specification\n",
    "        - Please **DO NOT** change function signatures in the templates, or variable names on the left hand side of existing code without approval from the instructor or GA\n",
    "        - We will test your code for correctness by calling the functions in the template, and evaluating certain variables (whose values you will compute).  If you change these, it will make evaluation more difficult.\n",
    "        \n",
    "1. Other sections\n",
    "    - Add all the sections in our \"reciple for ML\" (e.g. see Geron Appendix B) as appropriate\n",
    "    - Consider this an example of what you would submit as part of a take-home job interview\n",
    "    - We want to see *how* you approached the problem, not just the solution\n",
    "\n",
    "     \n",
    "**REMEMBER** Working code and correct answers give partial credit.  To get full credit, your notebook should reflect your process of thinking and exploration (i.e., lots of markdown, graphs where appropriate, etc.)"
   ]
  },
  {
   "cell_type": "code",
   "execution_count": null,
   "metadata": {},
   "outputs": [],
   "source": [
    "import numpy as np\n",
    "import pandas as pd\n",
    "import matplotlib.pyplot as plt"
   ]
  },
  {
   "cell_type": "code",
   "execution_count": null,
   "metadata": {},
   "outputs": [],
   "source": [
    "# %load \"./assignment_1_answers.py\""
   ]
  },
  {
   "cell_type": "markdown",
   "metadata": {},
   "source": [
    "# <span style=\"color:red\">Import any other modules you need</span>"
   ]
  },
  {
   "cell_type": "code",
   "execution_count": null,
   "metadata": {},
   "outputs": [],
   "source": [
    "# Your imports\n"
   ]
  },
  {
   "cell_type": "markdown",
   "metadata": {},
   "source": [
    "# <span style=\"color:red\">Create function to obtain the train and test data</span>"
   ]
  },
  {
   "cell_type": "code",
   "execution_count": null,
   "metadata": {},
   "outputs": [],
   "source": [
    "def getData(ticker, indx):\n",
    "    \"\"\"\n",
    "    Retrieve two timeseries: one for a ticker and one for an index.\n",
    "    Return a DataFrame containing the two timeseries.\n",
    "   \n",
    "    Parameters\n",
    "    ----------\n",
    "    ticker, indx: Strings representing the stock symbol for \"ticker\" and the \"index\"\n",
    "    \n",
    "    The two timeseries are in separate CSV files.  The code below will construct the names of the files from\n",
    "    the stock symbol strings.\n",
    "    \n",
    "    The files contain multiple features. The feature of interest to us is \"Close\", which is the closing price.\n",
    "        \n",
    "    \n",
    "    Returns\n",
    "    --------\n",
    "    df: a DataFrame with the following properties\n",
    "    \n",
    "    df.index should be the dates in the timeseries\n",
    "    df should have (at least) 2 columns, with names:\n",
    "    \"Dependent\"\n",
    "    \"Independent\"\n",
    "    \n",
    "    df.loc[:, \"Dependent\"] should be the timeseries of the \"Close\" attribute for the ticker\n",
    "    df.loc[:, \"Independent\"] should be the timeseries for the \"Close\" attribute of the index against which we are computing beta.\n",
    "    \"\"\"\n",
    "    \n",
    "    # Construct the name of the files containing the ticker and the \"index\"\n",
    "    ticker_file = \"./data/assignment_1/{t}.csv\".format(t=ticker)\n",
    "    indx_file   = \"./data/assignment_1/{t}.csv\".format(t=indx)\n",
    "    \n",
    "    # Create the function body according to the spec\n",
    "    \n",
    "\n",
    "    # Change the return statement as appropriate\n",
    "    return pd.DataFrame()"
   ]
  },
  {
   "cell_type": "code",
   "execution_count": null,
   "metadata": {},
   "outputs": [],
   "source": [
    "# Ticker: BA (Boeing), Index: SPY (the ETF for the S&P 500)\n",
    "df = getData(\"BA\", \"SPY\")\n",
    "\n",
    "X = df.loc[:, [\"Independent\"] ]\n",
    "y = df.loc[:, [\"Dependent\"] ]"
   ]
  },
  {
   "cell_type": "markdown",
   "metadata": {},
   "source": [
    "# <span style=\"color:red\">Create function to split the full data into train and test data</span>"
   ]
  },
  {
   "cell_type": "code",
   "execution_count": null,
   "metadata": {},
   "outputs": [],
   "source": [
    "def split(X, y, seed=42):\n",
    "    \"\"\"\n",
    "    Split the data into a training and test set\n",
    "    \n",
    "    The training data should span the date range from 1/1/2018 to 6/30/2018\n",
    "    The test data should span the date range from 7/1/2018 to 7/31/2018\n",
    "    \n",
    "    Parameters\n",
    "    ----------\n",
    "    X: DataFrame containing the independent variable(s) (i.e, features, predictors)\n",
    "    y: DataFrame containing the dependent variable (i.e., the target)\n",
    "    \n",
    "    Optional\n",
    "    --------\n",
    "    seed: Integer used as the seed for a random number generator\n",
    "      You don't necessarily NEED to use a random number generator but, if you do, please use the default value for seed\n",
    "    \n",
    "    Returns\n",
    "    -------\n",
    "    X_train: DataFrame containing training data for independent variable(s)\n",
    "    X_test:  DataFrame containing test data for independent variable(s)\n",
    "    y_train: DataFrame containing training data for dependent variable\n",
    "    y_test:  DateFrame containing test data for dependent variable\n",
    "    \"\"\"\n",
    "    # IF  you need to use a random number generator, use rng.\n",
    "    rng = np.random.RandomState(seed)\n",
    "    \n",
    "    # Create the function body according to the spec\n",
    "   \n",
    "\n",
    "    # Change the return statement as appropriate\n",
    "    return None, None, None, None\n",
    "   "
   ]
  },
  {
   "cell_type": "code",
   "execution_count": null,
   "metadata": {},
   "outputs": [],
   "source": [
    "# Split the data into a training and a test set\n",
    "X_train, X_test, y_train, y_test = split(X, y)\n"
   ]
  },
  {
   "cell_type": "markdown",
   "metadata": {},
   "source": [
    "# <span style=\"color:red\">Create a function to perform any other preparation of the data needed</span>\n",
    "   "
   ]
  },
  {
   "cell_type": "code",
   "execution_count": null,
   "metadata": {},
   "outputs": [],
   "source": [
    "def prepareData( dfList ):\n",
    "    \"\"\"\n",
    "    Prepare each DataFrame df in the list of DataFrames for use by the model\n",
    "    \n",
    "    This is the time to convert each of your datasets into the form consumed by your model.  For example:\n",
    "    - do any columns of df needed to be converted into another form ?\n",
    "    \n",
    "    \n",
    "    Parameters\n",
    "    ----------\n",
    "    dfList:  A list of DataFrames\n",
    "    \n",
    "    Returns\n",
    "    -------\n",
    "    finalList: A list of DataFrames.  There is a one to one correspondence between items in\n",
    "      dfList and finalList, so\n",
    "        \n",
    "      len(finalList) == len(dfList)\n",
    "    \n",
    "    Consider the DataFrame at position i of dfList (i.e, dfList[i]).\n",
    "    The corresponding element of finalList (i.e, finalList[i]) will have changed dfList[i] into the DataFrame\n",
    "    that will be used as input by the sklearn model.\n",
    "\n",
    "    \"\"\"\n",
    "    \n",
    "    # Create the function body according to the spec\n",
    "    \n",
    "\n",
    "    # Change the return statement as appropriate\n",
    "    return []\n"
   ]
  },
  {
   "cell_type": "markdown",
   "metadata": {},
   "source": [
    "# <span style=\"color:red\">Transform the raw data, if needed</span>"
   ]
  },
  {
   "cell_type": "code",
   "execution_count": null,
   "metadata": {},
   "outputs": [],
   "source": [
    "# If needed: turn each of the \"raw\" X_train, X_test, y_train, y_test into a \"transfomred\" versions containing the features needed by the model\n",
    "# - you will need to replace the empty list argument\n",
    "X_train, X_test, y_train, y_test = prepareData( [ None, None, None, None ] )"
   ]
  },
  {
   "cell_type": "markdown",
   "metadata": {},
   "source": [
    "# <span style=\"color:red\">Create function to convert the DataFrames to ndarrays</span>"
   ]
  },
  {
   "cell_type": "code",
   "execution_count": null,
   "metadata": {},
   "outputs": [],
   "source": [
    "def pd2ndarray( dfList ):\n",
    "    \"\"\"\n",
    "    For each DataFrame in the list dfList, prepare the ndarray needed by the sklearn model\n",
    "    \n",
    "    Parameters\n",
    "    ----------\n",
    "    dfList: List of DataFrames\n",
    "    \n",
    "    Returns\n",
    "    --------\n",
    "    ndList: a list of ndarrays\n",
    "    \"\"\"\n",
    "    \n",
    "    # Create the function body according to the spec\n",
    "    \n",
    "    \n",
    "    # Change the return statement as appropriate\n",
    "    return []\n",
    "   "
   ]
  },
  {
   "cell_type": "code",
   "execution_count": null,
   "metadata": {},
   "outputs": [],
   "source": [
    "# sklearn takes ndarrays as arguments, not DataFrames; convert your DataFrames to the appropriate ndarray\n",
    "# You will need to replace the empty list argument\n",
    "X_train, X_test, y_train, y_test = pd2ndarray( [] )"
   ]
  },
  {
   "cell_type": "markdown",
   "metadata": {},
   "source": [
    "# <span style=\"color:red\">Create function to return the sklearn model you need</span>"
   ]
  },
  {
   "cell_type": "code",
   "execution_count": null,
   "metadata": {},
   "outputs": [],
   "source": [
    "def createModel():\n",
    "    \"\"\"\n",
    "    Create an sklearn model object\n",
    "    \n",
    "    Parameters\n",
    "    ----------\n",
    "    None\n",
    "    \n",
    "    Returns\n",
    "    -------\n",
    "    model: An sklearn model object,\n",
    "    i.e., responds to model.fit(), model.predict()\n",
    "    \"\"\"\n",
    "    \n",
    "    # Create the function body according to the spec\n",
    "    \n",
    "    \n",
    "    # Change the return statement as appropriate\n",
    "    return None"
   ]
  },
  {
   "cell_type": "code",
   "execution_count": null,
   "metadata": {},
   "outputs": [],
   "source": [
    "# Create linear regression object\n",
    "model = createModel()\n",
    "\n",
    "# Train the model using the training sets\n",
    "_ = model.fit(X_train, y_train)\n",
    "\n",
    "# The coefficients\n",
    "print('Coefficients: \\n', model.intercept_, model.coef_)"
   ]
  },
  {
   "cell_type": "markdown",
   "metadata": {},
   "source": [
    "# <span style=\"color:red\">Create function to compute a Root Mean Squared Error</span>"
   ]
  },
  {
   "cell_type": "code",
   "execution_count": null,
   "metadata": {},
   "outputs": [],
   "source": [
    "def computeRMSE( target, predicted ):\n",
    "    \"\"\"\n",
    "    Compute the Root Mean Squared Error (RMSE)\n",
    "    \n",
    "    Parameters\n",
    "    -----------\n",
    "    target: ndarray of target values\n",
    "    predicted: ndarray of predicted values\n",
    "    \n",
    "    Returns\n",
    "    -------\n",
    "    rmse: a Scalar value containg the RMSE\n",
    "    \"\"\"\n",
    "    \n",
    "    # Create the function body according to the spec\n",
    "    \n",
    "        \n",
    "    # Change the return statement as appropriate\n",
    "    return 0.0"
   ]
  },
  {
   "cell_type": "markdown",
   "metadata": {},
   "source": [
    "# <span style=\"color:red\">Evaluate in and out of sample Root Mean Squared Error</span>"
   ]
  },
  {
   "cell_type": "code",
   "execution_count": null,
   "metadata": {},
   "outputs": [],
   "source": [
    "# Predictions:\n",
    "# predict out of sample: You will need to change the None argument\n",
    "y_pred_test = model.predict( None )\n",
    "\n",
    "# predict in sample: You will need to change the None argument\n",
    "y_pred_train = model.predict( None )"
   ]
  },
  {
   "cell_type": "code",
   "execution_count": null,
   "metadata": {},
   "outputs": [],
   "source": [
    "# Compute the in-sample fit\n",
    "# - you will need to replace the None's below with the appropriate argument\n",
    "rmse_insample = computeRMSE( None, None )\n",
    "print(\"RMSE (train): {r:2.3f}\".format(r=rmse_insample))\n",
    "\n",
    "# Compute the out of sample fit\n",
    "# - you will need to replace the None's below with the appropriate argument\n",
    "rmse_outOfsample = computeRMSE( None, None)\n",
    "print(\"RMSE (train): {r:2.3f}\".format(r=rmse_outOfsample))\n"
   ]
  },
  {
   "cell_type": "markdown",
   "metadata": {},
   "source": [
    "# <span style=\"color:red\">Please answer the following questions</span>"
   ]
  },
  {
   "cell_type": "markdown",
   "metadata": {},
   "source": [
    "- What are your thoughts/theories on the in sample vs out of sample performance ?\n",
    "- Repeat the experiment using ticker FB (Facebook) rather than ticker BA (Boeing)\n",
    "    - What are your thoughts of in sample vs out of sample performance, especially compared to BA\n",
    "        - Maybe our predictor (SPX Index return) was *not* a great predictor for FB\n",
    "        - any thoughts for a better one ?\n",
    "            - run the experiment using another predictor; there are more timeseries in the same directory\n"
   ]
  },
  {
   "cell_type": "markdown",
   "metadata": {},
   "source": [
    "# <span style=\"color:red\">Extra credit</span>"
   ]
  },
  {
   "cell_type": "markdown",
   "metadata": {},
   "source": [
    "- Assume our test set remains unchanged\n",
    "    - Does changing the date range of our training data affect the Performance metric (test RMSE)\n",
    "        - holding constant the last date of the training data\n",
    "        - plot the Performance metric versus the number of days of training data\n",
    "        \n",
    "- What are some of the challenges of timeseries data ?\n",
    "    - The Performance metric is an average that doesn't take an time-varying pattern of error into account\n",
    "        - show a scatter plot of error versus distance from date of last training point\n",
    "            - any pattern ? Theories ?\n",
    "    - We split train/test so that each has a continous date range\n",
    "        - we didn't use the standard sklearn `sklearn.model_selection.train_test_split`, which shuffles data\n",
    "            - what are the consideratons of shuffling data when we are dealing with timeseries ?"
   ]
  }
 ],
 "metadata": {
  "kernelspec": {
   "display_name": "Python 3",
   "language": "python",
   "name": "python3"
  },
  "language_info": {
   "codemirror_mode": {
    "name": "ipython",
    "version": 3
   },
   "file_extension": ".py",
   "mimetype": "text/x-python",
   "name": "python",
   "nbconvert_exporter": "python",
   "pygments_lexer": "ipython3",
   "version": "3.6.8"
  },
  "toc": {
   "base_numbering": 1,
   "nav_menu": {},
   "number_sections": true,
   "sideBar": true,
   "skip_h1_title": false,
   "title_cell": "Table of Contents",
   "title_sidebar": "Contents",
   "toc_cell": false,
   "toc_position": {},
   "toc_section_display": true,
   "toc_window_display": true
  }
 },
 "nbformat": 4,
 "nbformat_minor": 2
}
