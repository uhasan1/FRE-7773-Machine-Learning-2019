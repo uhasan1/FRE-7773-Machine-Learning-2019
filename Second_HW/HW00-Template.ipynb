{
 "cells": [
  {
   "cell_type": "markdown",
   "metadata": {},
   "source": [
    "# Homework 0\n",
    "#### Assigned: 2019-mm-dd\n",
    "#### Due EoD: 2019-mm-dd\n",
    "\n",
    "This is a template for setting up homeworks.  \n",
    "+ The student fills in the <...> fields.  \n",
    "+ The student can create as many new cells as necessary in the solution sections."
   ]
  },
  {
   "cell_type": "markdown",
   "metadata": {},
   "source": [
    "*Useful LaTeX macros that save typing (click into cell to see them)*  \n",
    "$\\def\\bx{\\boldsymbol{x}}$\n",
    "$\\def\\bz{\\boldsymbol{z}}$\n",
    "$\\def\\bi{\\boldsymbol{\\iota}}$"
   ]
  },
  {
   "cell_type": "markdown",
   "metadata": {},
   "source": [
    "#### Name:  <...>\n",
    "#### NetID: <...>"
   ]
  },
  {
   "cell_type": "markdown",
   "metadata": {},
   "source": [
    "## Problem 1 (20 points)"
   ]
  },
  {
   "cell_type": "markdown",
   "metadata": {},
   "source": [
    "A column vector $\\boldsymbol{x}$ contains $n$ observations of a random variable.  \n",
    "*Centering* $\\bx$ means subtracting from each component $x_i$ the mean $\\bar{x}$  \n",
    "$$\n",
    "\\bar{x} = \\frac{1}{n}\\sum_{i=1}^{n}x_i \\qquad (1)\n",
    "$$\n",
    "Call $\\bi$ the column vector with all $n$ components equal to 1.  \n",
    "Then, the centered vector $\\bz\\,$ is defined as  \n",
    "$$\n",
    "\\bz = \\bx - \\bar{x} \\bi \\qquad (2)\n",
    "$$\n",
    "Show that $\\bz\\,$ and $\\bi$ are orthogonal."
   ]
  },
  {
   "cell_type": "markdown",
   "metadata": {},
   "source": [
    "## Solution 1"
   ]
  },
  {
   "cell_type": "markdown",
   "metadata": {},
   "source": [
    "We compute the inner product  \n",
    "$$\n",
    "\\bi^T \\cdot \\bz = \\bi^T \\cdot (\\bx - \\bar{x} \\bi) \n",
    "= n \\bar{x} - n \\bar{x} = 0\n",
    "$$"
   ]
  },
  {
   "cell_type": "markdown",
   "metadata": {},
   "source": [
    "In the first step we used eq. (2) and in the second step eq. (1) and the fact that $\\bi^T \\cdot \\bi = n$"
   ]
  },
  {
   "cell_type": "markdown",
   "metadata": {},
   "source": [
    "## Problem 2 (40 points)"
   ]
  },
  {
   "cell_type": "markdown",
   "metadata": {},
   "source": [
    "Use the 'casual' and 'registered' columns of the daily BikeSharing dataset and measure their correlation, and its p-value"
   ]
  },
  {
   "cell_type": "markdown",
   "metadata": {},
   "source": [
    "## Solution 2"
   ]
  },
  {
   "cell_type": "code",
   "execution_count": null,
   "metadata": {},
   "outputs": [],
   "source": [
    "# data and stats packages\n",
    "import numpy as np\n",
    "import pandas as pd\n",
    "import scipy.stats as stats"
   ]
  },
  {
   "cell_type": "code",
   "execution_count": 2,
   "metadata": {},
   "outputs": [
    {
     "name": "stdout",
     "output_type": "stream",
     "text": [
      "Correlation=0.395        p-value=9.454e-29\n"
     ]
    }
   ],
   "source": [
    "# We can assume that this notebook will be placed in a folder parallel to the data folder.\n",
    "# We set the data path relative to this notebook location\n",
    "\n",
    "datapath = '../data/BikeSharing/day.csv'\n",
    "day_df = pd.read_csv(datapath)\n",
    "\n",
    "casual = day_df.casual\n",
    "regist = day_df.registered\n",
    "\n",
    "corrp = stats.pearsonr(casual, regist)\n",
    "print(\"Correlation={0:5.3f}        p-value={1:4.3e}\".format(corrp[0], corrp[1]))"
   ]
  },
  {
   "cell_type": "markdown",
   "metadata": {},
   "source": [
    "The correlation is close to 40%, and the p-values is practically zero.  \n",
    "The correlation value is highly significant."
   ]
  },
  {
   "cell_type": "markdown",
   "metadata": {},
   "source": [
    "## Problem 3 (40 points)"
   ]
  },
  {
   "cell_type": "markdown",
   "metadata": {},
   "source": [
    "Blah blah"
   ]
  },
  {
   "cell_type": "markdown",
   "metadata": {},
   "source": [
    "## Solution 3"
   ]
  },
  {
   "cell_type": "markdown",
   "metadata": {},
   "source": [
    "<...>"
   ]
  }
 ],
 "metadata": {
  "anaconda-cloud": {},
  "kernelspec": {
   "display_name": "Python 3",
   "language": "python",
   "name": "python3"
  },
  "language_info": {
   "codemirror_mode": {
    "name": "ipython",
    "version": 3
   },
   "file_extension": ".py",
   "mimetype": "text/x-python",
   "name": "python",
   "nbconvert_exporter": "python",
   "pygments_lexer": "ipython3",
   "version": "3.7.1"
  }
 },
 "nbformat": 4,
 "nbformat_minor": 2
}
