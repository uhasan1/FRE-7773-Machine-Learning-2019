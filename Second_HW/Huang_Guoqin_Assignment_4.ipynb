{
 "cells": [
  {
   "cell_type": "markdown",
   "metadata": {},
   "source": [
    "# Homework 4\n",
    "#### Assigned: 2019-04-05\n",
    "#### Due EOD: 2019-04-14\n",
    "\n",
    "Based on Lecture 9\n",
    "+ The student fills in the <...> fields.  \n",
    "+ The student can create as many new cells as necessary in the solution sections."
   ]
  },
  {
   "cell_type": "markdown",
   "metadata": {},
   "source": [
    "*Useful LaTeX macros that save typing (click into cell to see them)*\n",
    "$\\def\\expect{\\mathbb{E}}$\n",
    "$\\def\\cov{\\mathrm{cov}}$\n",
    "$\\def\\var{\\mathrm{var}}$"
   ]
  },
  {
   "cell_type": "markdown",
   "metadata": {},
   "source": [
    "#### Name: Guoqin Huang\n",
    "#### NetID: gh1295"
   ]
  },
  {
   "cell_type": "markdown",
   "metadata": {},
   "source": [
    "## Problem 1 (30 points)"
   ]
  },
  {
   "cell_type": "markdown",
   "metadata": {},
   "source": [
    "We have an AR(1) model of the form\n",
    "$$ \n",
    "x_t = \\phi_0 + \\phi_1 x_{t-1} + \\epsilon_t  \\qquad (1)\n",
    "$$ \n",
    "At all times $t$ and $s$, the white noise $\\epsilon_t$ has the properties\n",
    "$$\n",
    "\\expect (\\epsilon_t) = 0,  \\qquad \\cov(\\epsilon_t, \\epsilon_s) = \\sigma^2 \\delta_{t,s}  \\qquad (2)\n",
    "$$\n",
    "\n",
    "Show the following:  \n",
    "\n",
    "1. Mean $$\\expect(x_t) = \\frac{\\phi_0}{1-\\phi_1}$$\n",
    "\n",
    "2. Autocovariance $$\\gamma(h) := \\cov(x_{t+h}, x_t) = \\sigma^2\\frac{\\phi_1^h}{1-\\phi_1^2}$$\n",
    "\n",
    "3. ACF $$\\rho(h) = \\phi_1^h$$"
   ]
  },
  {
   "cell_type": "markdown",
   "metadata": {},
   "source": [
    "## Solution 1"
   ]
  },
  {
   "cell_type": "markdown",
   "metadata": {},
   "source": [
    "1. For an AR(1) model, we have $\\expect(x_t) = \\expect(x_{t-1}) = \\mu$.  \n",
    "Thus, we can obtain\n",
    "\\begin{equation}\n",
    "\\begin{aligned}\n",
    "\\expect(x_t) &= \\expect(\\phi_0 + \\phi_1 x_{t-1} + \\epsilon_t) \\\\\n",
    "             &= \\phi_0 + \\phi_1 \\expect(x_{t-1}) + 0 \\\\\n",
    "         \\mu &= \\phi_0 + \\phi_1 \\mu\n",
    "\\end{aligned}\n",
    "\\end{equation}\n",
    "Simplifying the equation above, we will get\n",
    "$$\\expect(x_t) = \\mu = \\frac{\\phi_0}{1 - \\phi_1}$$\n",
    "\n"
   ]
  },
  {
   "cell_type": "markdown",
   "metadata": {},
   "source": [
    "2. \n",
    "\\begin{equation}\n",
    "\\begin{aligned}\n",
    "\\gamma(h) &= \\cov(x_{t+h}, x_t) \\\\\n",
    "          &= \\expect(x_{t+h}x_t) - \\expect(x_{t+h})\\expect(x_t) \\\\\n",
    "          &= \\expect( (\\phi_0 + \\phi_1 x_{t+h-1} + \\epsilon_{t+h})x_t) - \\expect(x_{t+h})\\expect(x_t) \\\\\n",
    "          &= \\expect(\\phi_0 x_t) + \\expect(\\phi_1 x_{t+h-1}x_t) + \\expect(\\epsilon_{t+h}x_t) - \\expect(x_{t+h})\\expect(x_t) \\\\\n",
    "          &= \\phi_0 \\mu + \\phi_1 \\expect(x_{t+h-1}x_t) + 0 - \\mu^2 \\\\\n",
    "          &= \\phi_1 \\expect(x_{t+h-1}x_t) + (\\phi_0 - \\mu) \\mu \\\\\n",
    "          &= \\phi_1 \\expect(x_{t+h-1}x_t) - \\phi_1 \\mu^2 \\\\\n",
    "          &= \\phi_1 \\expect(x_{t+h-1}x_t) - \\phi_1 (\\expect(x_{t+h-1})\\expect(x_t)) \\\\\n",
    "          &= \\phi_1 \\cov(x_{t+h-1}, x_t) \\\\\n",
    "          &= \\phi_1 \\gamma(h-1)\n",
    "\\end{aligned}\n",
    "\\end{equation}\n",
    "From the equation above, we will get $\\gamma(h) = \\phi_1^h \\gamma(0)$.  \n",
    "By independence of errors and value $x$, we have\n",
    "\\begin{equation}\n",
    "\\begin{aligned}\n",
    "\\gamma(0) &= \\var(x_t) \\\\\n",
    "          &= \\var(\\phi_0) + \\var(\\phi_1 x_{t-1}) + \\var(\\epsilon_t) \\\\\n",
    "          &= \\phi_1^2 \\var(x_{t-1}) + \\sigma^2 \\\\\n",
    "\\end{aligned}\n",
    "\\end{equation}\n",
    "By the stationary assumption, $\\var(x_t) = \\var(x_{t-1})$.  \n",
    "Substitue $\\var(x_t)$ for $\\var(x_{t-1})$ and solve for $\\var(x_t)$.  \n",
    "$$ \\var(x_t) = \\frac{\\sigma^2}{1-\\phi_1^2}$$\n",
    "Thus, we have  \n",
    "$$\\gamma(h) = \\sigma^2 \\frac{\\phi_1^h}{1-\\phi_1^2}$$"
   ]
  },
  {
   "cell_type": "markdown",
   "metadata": {},
   "source": [
    "3. From the result of Answer 2, we have  \n",
    "$$\\rho(h) = \\frac{\\gamma(h)}{\\sqrt{\\var(x_{t+h})} \\sqrt{\\var(x_t)}} = \\frac{\\gamma(h)}{\\var(x_t)} = \\phi_1^h$$"
   ]
  },
  {
   "cell_type": "markdown",
   "metadata": {},
   "source": [
    "## Problem 2 (70 points)"
   ]
  },
  {
   "cell_type": "markdown",
   "metadata": {},
   "source": [
    "Univariate times series modeling of the S&P 500 over the period 2004-2006.\n",
    "\n",
    "The data file \"stock-treasury-2004_2006.csv\", to be found in the \"Data\" folder, contains the following:  \n",
    "+ TREAS_3M: the yield of the 3-month treasury note in percent (i.e 2.1 means 2.1%)\n",
    "+ Adjusted close price of ten major stocks: GM, F, UTX, CAT, MRK, PFE, IBM, MSFT, C, XOM\n",
    "+ SP: The S&P 500 equity index level at the close of the trading day  \n",
    "\n",
    "**Do the following:**  \n",
    "\n",
    "Use the pandas read_csv function to read only the Date and SP columns in a data frame called \"sp_df\".  \n",
    "Rename the \"SP\" column into \"ClosePx\" in the same read_csv call.  \n",
    "Compute the close-to-close index returns as:  $r_t = P_{t+1}/P_t - 1$ and add them as a new column \"DailyRet\".  \n",
    "It is recommended to express all daily returns in basis points (10,000 bps = 100% = 1)\n",
    "\n",
    "Fit ARIMA models on the DailyRet time series, up to AR order p=2, MA order q=2, and differencing order d=1.  \n",
    "You can reuse the utility function auto_arima or provide your own.  \n",
    "Display the summary of the best selected model based on the AIC criterion.  \n",
    "Plot the original returns series and the predictions of the best selected model using the model's plot_predict method.\n",
    "\n",
    "Run the Jarque-Bera normality test on the residuals of the best selected ARIMA model, and produce the qq plot of the residuals.  \n",
    "Repeat the Jarque-Bera test and the qq plot using the residuals of the white noise model ARMA(0, 0).  \n",
    "Compare the two and comment on whether they are really different.  \n"
   ]
  },
  {
   "cell_type": "markdown",
   "metadata": {},
   "source": [
    "## Solution 2"
   ]
  },
  {
   "cell_type": "code",
   "execution_count": 59,
   "metadata": {},
   "outputs": [],
   "source": [
    "import os\n",
    "import pandas as pd\n",
    "import numpy as np\n",
    "import matplotlib.pyplot as plt\n",
    "import seaborn as sn\n",
    "import mlutils"
   ]
  },
  {
   "cell_type": "code",
   "execution_count": 60,
   "metadata": {},
   "outputs": [],
   "source": [
    "DATA_PATH = os.path.join(os.getcwd(), \"stock-treasury-2004_2006.csv\")\n",
    "sp_df = pd.read_csv(DATA_PATH, usecols=[\"Date\", \"SP\"])"
   ]
  },
  {
   "cell_type": "code",
   "execution_count": 61,
   "metadata": {
    "scrolled": true
   },
   "outputs": [],
   "source": [
    "sp_df = sp_df.rename(columns={\"SP\": \"ClosePx\"})\n",
    "sp_df = sp_df.set_index(\"Date\")"
   ]
  },
  {
   "cell_type": "code",
   "execution_count": 62,
   "metadata": {},
   "outputs": [],
   "source": [
    "sp_df[\"DailyRe\"] = sp_df.pct_change() * 10000"
   ]
  },
  {
   "cell_type": "code",
   "execution_count": 63,
   "metadata": {},
   "outputs": [
    {
     "data": {
      "text/html": [
       "<div>\n",
       "<style scoped>\n",
       "    .dataframe tbody tr th:only-of-type {\n",
       "        vertical-align: middle;\n",
       "    }\n",
       "\n",
       "    .dataframe tbody tr th {\n",
       "        vertical-align: top;\n",
       "    }\n",
       "\n",
       "    .dataframe thead th {\n",
       "        text-align: right;\n",
       "    }\n",
       "</style>\n",
       "<table border=\"1\" class=\"dataframe\">\n",
       "  <thead>\n",
       "    <tr style=\"text-align: right;\">\n",
       "      <th></th>\n",
       "      <th>ClosePx</th>\n",
       "      <th>DailyRe</th>\n",
       "    </tr>\n",
       "    <tr>\n",
       "      <th>Date</th>\n",
       "      <th></th>\n",
       "      <th></th>\n",
       "    </tr>\n",
       "  </thead>\n",
       "  <tbody>\n",
       "    <tr>\n",
       "      <th>02-Jan-04</th>\n",
       "      <td>1108.48</td>\n",
       "      <td>NaN</td>\n",
       "    </tr>\n",
       "    <tr>\n",
       "      <th>05-Jan-04</th>\n",
       "      <td>1122.22</td>\n",
       "      <td>123.953522</td>\n",
       "    </tr>\n",
       "    <tr>\n",
       "      <th>06-Jan-04</th>\n",
       "      <td>1123.67</td>\n",
       "      <td>12.920818</td>\n",
       "    </tr>\n",
       "    <tr>\n",
       "      <th>07-Jan-04</th>\n",
       "      <td>1126.33</td>\n",
       "      <td>23.672431</td>\n",
       "    </tr>\n",
       "    <tr>\n",
       "      <th>08-Jan-04</th>\n",
       "      <td>1131.92</td>\n",
       "      <td>49.630215</td>\n",
       "    </tr>\n",
       "  </tbody>\n",
       "</table>\n",
       "</div>"
      ],
      "text/plain": [
       "           ClosePx     DailyRe\n",
       "Date                          \n",
       "02-Jan-04  1108.48         NaN\n",
       "05-Jan-04  1122.22  123.953522\n",
       "06-Jan-04  1123.67   12.920818\n",
       "07-Jan-04  1126.33   23.672431\n",
       "08-Jan-04  1131.92   49.630215"
      ]
     },
     "execution_count": 63,
     "metadata": {},
     "output_type": "execute_result"
    }
   ],
   "source": [
    "sp_df.head()"
   ]
  },
  {
   "cell_type": "code",
   "execution_count": null,
   "metadata": {},
   "outputs": [],
   "source": []
  },
  {
   "cell_type": "code",
   "execution_count": null,
   "metadata": {},
   "outputs": [],
   "source": []
  }
 ],
 "metadata": {
  "anaconda-cloud": {},
  "kernelspec": {
   "display_name": "Python 3",
   "language": "python",
   "name": "python3"
  },
  "language_info": {
   "codemirror_mode": {
    "name": "ipython",
    "version": 3
   },
   "file_extension": ".py",
   "mimetype": "text/x-python",
   "name": "python",
   "nbconvert_exporter": "python",
   "pygments_lexer": "ipython3",
   "version": "3.6.8"
  },
  "toc": {
   "base_numbering": 1,
   "nav_menu": {},
   "number_sections": true,
   "sideBar": true,
   "skip_h1_title": false,
   "title_cell": "Table of Contents",
   "title_sidebar": "Contents",
   "toc_cell": false,
   "toc_position": {},
   "toc_section_display": true,
   "toc_window_display": false
  }
 },
 "nbformat": 4,
 "nbformat_minor": 2
}
