{
 "cells": [
  {
   "cell_type": "code",
   "execution_count": 1,
   "metadata": {},
   "outputs": [],
   "source": [
    "# My standard magic !  You will see this in almost all my notebooks.\n",
    "\n",
    "from IPython.core.interactiveshell import InteractiveShell\n",
    "InteractiveShell.ast_node_interactivity = \"all\"\n",
    "\n",
    "# Reload all modules imported with %aimport\n",
    "%load_ext autoreload\n",
    "%autoreload 1\n",
    "\n",
    "%matplotlib inline"
   ]
  },
  {
   "cell_type": "code",
   "execution_count": 2,
   "metadata": {},
   "outputs": [],
   "source": [
    "import matplotlib.pyplot as plt\n",
    "import numpy as np\n",
    "\n",
    "from sklearn import datasets, linear_model\n",
    "from sklearn.metrics import mean_squared_error, r2_score\n",
    "\n",
    "import gen_data as gd\n",
    "%aimport gen_data"
   ]
  },
  {
   "cell_type": "code",
   "execution_count": 3,
   "metadata": {},
   "outputs": [
    {
     "data": {
      "image/png": "[encoded data removed]",
      "text/plain": [
       "<Figure size 432x288 with 1 Axes>"
      ]
     },
     "metadata": {},
     "output_type": "display_data"
    }
   ],
   "source": [
    "v1, a1 = 1, .005\n",
    "X, y = gd.gen_data(num=50, v=v1, a=a1)\n",
    "\n",
    "xlabel, ylabel = \"Size\", \"Price Premium\"\n",
    "gd.gen_plot(X, y, xlabel, ylabel)"
   ]
  },
  {
   "cell_type": "code",
   "execution_count": 4,
   "metadata": {},
   "outputs": [
    {
     "data": {
      "text/html": [
       "<div>\n",
       "<style scoped>\n",
       "    .dataframe tbody tr th:only-of-type {\n",
       "        vertical-align: middle;\n",
       "    }\n",
       "\n",
       "    .dataframe tbody tr th {\n",
       "        vertical-align: top;\n",
       "    }\n",
       "\n",
       "    .dataframe thead th {\n",
       "        text-align: right;\n",
       "    }\n",
       "</style>\n",
       "<table border=\"1\" class=\"dataframe\">\n",
       "  <thead>\n",
       "    <tr style=\"text-align: right;\">\n",
       "      <th></th>\n",
       "      <th>X</th>\n",
       "      <th>Y</th>\n",
       "    </tr>\n",
       "  </thead>\n",
       "  <tbody>\n",
       "    <tr>\n",
       "      <th>0</th>\n",
       "      <td>24.835708</td>\n",
       "      <td>26.377739</td>\n",
       "    </tr>\n",
       "    <tr>\n",
       "      <th>1</th>\n",
       "      <td>-6.913215</td>\n",
       "      <td>-6.793734</td>\n",
       "    </tr>\n",
       "    <tr>\n",
       "      <th>2</th>\n",
       "      <td>32.384427</td>\n",
       "      <td>35.006305</td>\n",
       "    </tr>\n",
       "    <tr>\n",
       "      <th>3</th>\n",
       "      <td>76.151493</td>\n",
       "      <td>90.649117</td>\n",
       "    </tr>\n",
       "    <tr>\n",
       "      <th>4</th>\n",
       "      <td>-11.707669</td>\n",
       "      <td>-11.364995</td>\n",
       "    </tr>\n",
       "  </tbody>\n",
       "</table>\n",
       "</div>"
      ],
      "text/plain": [
       "           X          Y\n",
       "0  24.835708  26.377739\n",
       "1  -6.913215  -6.793734\n",
       "2  32.384427  35.006305\n",
       "3  76.151493  90.649117\n",
       "4 -11.707669 -11.364995"
      ]
     },
     "execution_count": 4,
     "metadata": {},
     "output_type": "execute_result"
    },
    {
     "data": {
      "text/html": [
       "<div>\n",
       "<style scoped>\n",
       "    .dataframe tbody tr th:only-of-type {\n",
       "        vertical-align: middle;\n",
       "    }\n",
       "\n",
       "    .dataframe tbody tr th {\n",
       "        vertical-align: top;\n",
       "    }\n",
       "\n",
       "    .dataframe thead th {\n",
       "        text-align: right;\n",
       "    }\n",
       "</style>\n",
       "<table border=\"1\" class=\"dataframe\">\n",
       "  <thead>\n",
       "    <tr style=\"text-align: right;\">\n",
       "      <th></th>\n",
       "      <th>X</th>\n",
       "      <th>Y</th>\n",
       "    </tr>\n",
       "  </thead>\n",
       "  <tbody>\n",
       "    <tr>\n",
       "      <th>count</th>\n",
       "      <td>50.000000</td>\n",
       "      <td>50.000000</td>\n",
       "    </tr>\n",
       "    <tr>\n",
       "      <th>mean</th>\n",
       "      <td>-11.273695</td>\n",
       "      <td>-5.616563</td>\n",
       "    </tr>\n",
       "    <tr>\n",
       "      <th>std</th>\n",
       "      <td>46.683439</td>\n",
       "      <td>45.278755</td>\n",
       "    </tr>\n",
       "    <tr>\n",
       "      <th>min</th>\n",
       "      <td>-97.983506</td>\n",
       "      <td>-73.981587</td>\n",
       "    </tr>\n",
       "    <tr>\n",
       "      <th>25%</th>\n",
       "      <td>-43.048955</td>\n",
       "      <td>-38.374426</td>\n",
       "    </tr>\n",
       "    <tr>\n",
       "      <th>50%</th>\n",
       "      <td>-11.707258</td>\n",
       "      <td>-11.364609</td>\n",
       "    </tr>\n",
       "    <tr>\n",
       "      <th>75%</th>\n",
       "      <td>16.813778</td>\n",
       "      <td>17.521546</td>\n",
       "    </tr>\n",
       "    <tr>\n",
       "      <th>max</th>\n",
       "      <td>92.613909</td>\n",
       "      <td>114.057250</td>\n",
       "    </tr>\n",
       "  </tbody>\n",
       "</table>\n",
       "</div>"
      ],
      "text/plain": [
       "               X           Y\n",
       "count  50.000000   50.000000\n",
       "mean  -11.273695   -5.616563\n",
       "std    46.683439   45.278755\n",
       "min   -97.983506  -73.981587\n",
       "25%   -43.048955  -38.374426\n",
       "50%   -11.707258  -11.364609\n",
       "75%    16.813778   17.521546\n",
       "max    92.613909  114.057250"
      ]
     },
     "execution_count": 4,
     "metadata": {},
     "output_type": "execute_result"
    }
   ],
   "source": [
    "import pandas as pd\n",
    "df = pd.DataFrame( {\"X\": X.ravel(), \"Y\":y.ravel()})\n",
    "df.head()\n",
    "\n",
    "df.describe()"
   ]
  },
  {
   "cell_type": "code",
   "execution_count": 5,
   "metadata": {},
   "outputs": [
    {
     "name": "stdout",
     "output_type": "stream",
     "text": [
      "Y:\n",
      " size=50\n",
      " mean=-5.616563210748966\n",
      " std=44.823680417643054\n",
      " min=-73.98158747882019\n",
      " max=114.05724968049518\n",
      "\n"
     ]
    }
   ],
   "source": [
    "print(\"Y:\\n size={}\\n mean={}\\n std={}\\n min={}\\n max={}\\n\".format(y.size, y.mean(), y.std(), y.min(), y.max()))"
   ]
  },
  {
   "cell_type": "code",
   "execution_count": 6,
   "metadata": {},
   "outputs": [
    {
     "name": "stdout",
     "output_type": "stream",
     "text": [
      "y.std() = 44.82, df[\"Y\"].std() = 45.28\n",
      "0.0\n"
     ]
    }
   ],
   "source": [
    "print(\"y.std() = {ys:3.2f}, df[\\\"Y\\\"].std() = {Ys:3.2f}\".format(ys=y.std(), Ys=df[\"Y\"].std()))\n",
    "\n",
    "print( (y.size * y.std()**2) - ((y.size-1) * df[\"Y\"].std()**2) )"
   ]
  },
  {
   "cell_type": "code",
   "execution_count": 7,
   "metadata": {},
   "outputs": [
    {
     "data": {
      "image/png": "[encoded data removed]",
      "text/plain": [
       "<Figure size 432x288 with 1 Axes>"
      ]
     },
     "metadata": {},
     "output_type": "display_data"
    }
   ],
   "source": [
    "_ = df[\"X\"].hist()"
   ]
  },
  {
   "cell_type": "code",
   "execution_count": 8,
   "metadata": {},
   "outputs": [
    {
     "data": {
      "image/png": "[encoded data removed]",
      "text/plain": [
       "<Figure size 432x288 with 1 Axes>"
      ]
     },
     "metadata": {},
     "output_type": "display_data"
    }
   ],
   "source": [
    "_ = df[\"Y\"].hist()"
   ]
  },
  {
   "cell_type": "code",
   "execution_count": 9,
   "metadata": {},
   "outputs": [
    {
     "data": {
      "image/png": "[encoded data removed]",
      "text/plain": [
       "<Figure size 432x288 with 2 Axes>"
      ]
     },
     "metadata": {},
     "output_type": "display_data"
    }
   ],
   "source": [
    "fig = plt.figure()\n",
    "\n",
    "ax = fig.add_subplot(121)\n",
    "_ = ax.hist(X)\n",
    "_ = ax.set_xlabel(\"X\")\n",
    "_ = ax.set_ylabel(\"Count\")\n",
    "\n",
    "ax = fig.add_subplot(122)\n",
    "_ = ax.hist(y)\n",
    "_ = ax.set_xlabel(\"y\")\n",
    "_ = ax.set_ylabel(\"Count\")"
   ]
  },
  {
   "cell_type": "code",
   "execution_count": 10,
   "metadata": {},
   "outputs": [],
   "source": [
    "def split(X, y, shuffle=True, pct=.80, seed=42):\n",
    "    rng = np.random.RandomState(42)\n",
    "    \n",
    "    num = y.shape[0]\n",
    "    \n",
    "    idxs = list( range(0, num))\n",
    "    \n",
    "    if(shuffle):\n",
    "        rng.shuffle(idxs)\n",
    "    \n",
    "    split_idx = int( num * pct )\n",
    "    \n",
    "    X_train, y_train = X[ idxs[:split_idx] ], y[ idxs[:split_idx] ]\n",
    "    X_test, y_test = X[ idxs[split_idx:] ], y[ idxs[split_idx:] ]\n",
    "    \n",
    "    return X_train, X_test, y_train, y_test"
   ]
  },
  {
   "cell_type": "code",
   "execution_count": 11,
   "metadata": {},
   "outputs": [
    {
     "data": {
      "text/plain": [
       "((40, 1), (10, 1))"
      ]
     },
     "execution_count": 11,
     "metadata": {},
     "output_type": "execute_result"
    },
    {
     "data": {
      "text/plain": [
       "((40, 1), (10, 1))"
      ]
     },
     "execution_count": 11,
     "metadata": {},
     "output_type": "execute_result"
    }
   ],
   "source": [
    "X_train, X_test, y_train, y_test = split(X,y)\n",
    "\n",
    "X_train.shape, X_test.shape\n",
    "y_train.shape, y_test.shape"
   ]
  },
  {
   "cell_type": "code",
   "execution_count": 12,
   "metadata": {},
   "outputs": [
    {
     "data": {
      "text/plain": [
       "numpy.ndarray"
      ]
     },
     "execution_count": 12,
     "metadata": {},
     "output_type": "execute_result"
    },
    {
     "data": {
      "text/plain": [
       "numpy.ndarray"
      ]
     },
     "execution_count": 12,
     "metadata": {},
     "output_type": "execute_result"
    }
   ],
   "source": [
    "type(X)\n",
    "type(X_train)"
   ]
  },
  {
   "cell_type": "code",
   "execution_count": 13,
   "metadata": {},
   "outputs": [
    {
     "data": {
      "image/png": "[encoded data removed]",
      "text/plain": [
       "<Figure size 432x288 with 1 Axes>"
      ]
     },
     "metadata": {},
     "output_type": "display_data"
    }
   ],
   "source": [
    "fig = plt.figure()\n",
    "ax = fig.add_subplot(1,1,1)\n",
    "\n",
    "_ = ax.scatter(X_train, y_train, color='black')\n",
    "_ = ax.set_xlabel(xlabel)\n",
    "_ = ax.set_ylabel(ylabel)"
   ]
  },
  {
   "cell_type": "code",
   "execution_count": 14,
   "metadata": {},
   "outputs": [
    {
     "name": "stdout",
     "output_type": "stream",
     "text": [
      "Coefficients: \n",
      " [4.93224426] [[0.96836946]]\n",
      "\n",
      "Shape of intercept: (1,); Shape of coefficient: (1, 1)\n"
     ]
    }
   ],
   "source": [
    "regr = linear_model.LinearRegression()\n",
    "\n",
    "_ = regr.fit(X_train, y_train)\n",
    "\n",
    "print('Coefficients: \\n', regr.intercept_, regr.coef_)\n",
    "print('\\nShape of intercept: {i}; Shape of coefficient: {c}'.format(i=regr.intercept_.shape, c=regr.coef_.shape))"
   ]
  },
  {
   "cell_type": "code",
   "execution_count": 15,
   "metadata": {},
   "outputs": [
    {
     "data": {
      "text/plain": [
       "array([[100]])"
      ]
     },
     "execution_count": 15,
     "metadata": {},
     "output_type": "execute_result"
    }
   ],
   "source": [
    "np.array([100]).reshape(-1,1)"
   ]
  },
  {
   "cell_type": "code",
   "execution_count": 16,
   "metadata": {},
   "outputs": [
    {
     "name": "stdout",
     "output_type": "stream",
     "text": [
      "For size [100], predicted Price Premium [[101.76919047]]\n"
     ]
    }
   ],
   "source": [
    "t = [100]\n",
    "\n",
    "t_array = np.array(t).reshape(-1,1)\n",
    "\n",
    "print(\"For size {s}, predicted {attr} {d}\".format(s=t, attr=ylabel, d=regr.predict(t_array)))"
   ]
  },
  {
   "cell_type": "code",
   "execution_count": 17,
   "metadata": {},
   "outputs": [
    {
     "data": {
      "text/plain": [
       "array([[-17.50573283],\n",
       "       [  8.20185682],\n",
       "       [-39.03289502],\n",
       "       [-80.43146808],\n",
       "       [ 75.89671976],\n",
       "       [ 42.09026205],\n",
       "       [ -0.66726899],\n",
       "       [-78.58564342],\n",
       "       [-24.14976399],\n",
       "       [-59.37649623]])"
      ]
     },
     "execution_count": 17,
     "metadata": {},
     "output_type": "execute_result"
    }
   ],
   "source": [
    "y_pred = regr.predict(X_test)\n",
    "y_pred"
   ]
  },
  {
   "cell_type": "code",
   "execution_count": 18,
   "metadata": {},
   "outputs": [
    {
     "name": "stdout",
     "output_type": "stream",
     "text": [
      "Root Mean Squared Error: 6.86\n",
      "R-squared: 0.98\n"
     ]
    }
   ],
   "source": [
    "rmse = np.sqrt( mean_squared_error(y_test, y_pred) )\n",
    "print(\"Root Mean Squared Error: {:.2f}\".format(rmse))\n",
    "\n",
    "print(\"R-squared: {:.2f}\".format(r2_score(y_test, y_pred)))"
   ]
  },
  {
   "cell_type": "code",
   "execution_count": 19,
   "metadata": {},
   "outputs": [
    {
     "data": {
      "image/png": "[encoded data removed]",
      "text/plain": [
       "<Figure size 432x288 with 1 Axes>"
      ]
     },
     "metadata": {},
     "output_type": "display_data"
    }
   ],
   "source": [
    "fig = plt.figure()\n",
    "ax = fig.add_subplot(1,1,1)\n",
    "\n",
    "_ = ax.scatter(X_test, y_test, color='black', label=\"test\")\n",
    "_ = ax.scatter(X_test, y_pred, color='red', label=\"predicted\")\n",
    "_ = ax.set_xlabel(xlabel)\n",
    "_ = ax.set_ylabel(ylabel)\n",
    "_ = ax.legend()"
   ]
  },
  {
   "cell_type": "code",
   "execution_count": 20,
   "metadata": {},
   "outputs": [
    {
     "data": {
      "image/png": "[encoded data removed]",
      "text/plain": [
       "<Figure size 432x288 with 1 Axes>"
      ]
     },
     "metadata": {},
     "output_type": "display_data"
    }
   ],
   "source": [
    "fig = plt.figure()\n",
    "ax  = fig.add_subplot(1,1,1)\n",
    "\n",
    "_ = ax.scatter(X_test, y_test, color='black', label=\"test\")\n",
    "_ = ax.scatter(X_test, y_pred, color=\"red\",   label=\"predicted\")\n",
    "\n",
    "_ = ax.plot(X_test, y_pred, color='red')\n",
    "_ = ax.set_xlabel(xlabel)\n",
    "_ = ax.set_ylabel(ylabel)"
   ]
  },
  {
   "cell_type": "code",
   "execution_count": 21,
   "metadata": {},
   "outputs": [
    {
     "data": {
      "image/png": "[encoded data removed]",
      "text/plain": [
       "<Figure size 432x288 with 1 Axes>"
      ]
     },
     "metadata": {},
     "output_type": "display_data"
    }
   ],
   "source": [
    "fig = plt.figure()\n",
    "ax = fig.add_subplot(1,1,1)\n",
    "_ = ax.hist( (y_test - y_pred) )\n",
    "_ = ax.set_xlabel(\"Error\")\n",
    "_ = ax.set_ylabel(\"Count\")"
   ]
  },
  {
   "cell_type": "code",
   "execution_count": 22,
   "metadata": {},
   "outputs": [
    {
     "name": "stdout",
     "output_type": "stream",
     "text": [
      "Root Mean Squared Error: 6.56\n",
      "R-squared (train): 0.98\n"
     ]
    }
   ],
   "source": [
    "y_pred_train = regr.predict(X_train)\n",
    "\n",
    "rmse = np.sqrt( mean_squared_error(y_train, y_pred_train) )\n",
    "print(\"Root Mean Squared Error: {:.2f}\".format( rmse ) )\n",
    "\n",
    "print(\"R-squared (train): {:.2f}\".format(r2_score(y_train, y_pred_train)))"
   ]
  },
  {
   "cell_type": "code",
   "execution_count": 23,
   "metadata": {},
   "outputs": [
    {
     "data": {
      "image/png": "[encoded data removed]",
      "text/plain": [
       "<Figure size 432x288 with 1 Axes>"
      ]
     },
     "metadata": {},
     "output_type": "display_data"
    }
   ],
   "source": [
    "fig = plt.figure()\n",
    "ax = fig.add_subplot(1,1,1)\n",
    "\n",
    "_ = ax.scatter(X_train, y_train, color='black', label=\"train\")\n",
    "_ = ax.scatter(X_train, y_pred_train, color='red', label='model')\n",
    "\n",
    "_ = ax.plot(X_train, y_pred_train, color='blue')\n",
    "_ = ax.set_xlabel(xlabel)\n",
    "_ = ax.set_ylabel(ylabel)\n",
    "_ = ax.legend()"
   ]
  },
  {
   "cell_type": "code",
   "execution_count": 24,
   "metadata": {},
   "outputs": [
    {
     "data": {
      "image/png": "[encoded data removed]",
      "text/plain": [
       "<Figure size 432x288 with 1 Axes>"
      ]
     },
     "metadata": {},
     "output_type": "display_data"
    }
   ],
   "source": [
    "X_orig, y_orig = gd.gen_data(num=50, v=v1, a=a1)\n",
    "\n",
    "gd.gen_plot(X_orig, y_orig, xlabel, ylabel)"
   ]
  },
  {
   "cell_type": "code",
   "execution_count": 25,
   "metadata": {},
   "outputs": [
    {
     "data": {
      "image/png": "[encoded data removed]",
      "text/plain": [
       "<Figure size 432x288 with 1 Axes>"
      ]
     },
     "metadata": {},
     "output_type": "display_data"
    }
   ],
   "source": [
    "v2, a2 = v1, a1*2\n",
    "X_curve, y_curve = gd.gen_data(num=50, v=v2, a=a2)\n",
    "gd.gen_plot(X_curve, y_curve, xlabel, ylabel)"
   ]
  },
  {
   "cell_type": "code",
   "execution_count": 26,
   "metadata": {},
   "outputs": [
    {
     "data": {
      "text/plain": [
       "array([[ 24.83570765],\n",
       "       [ -6.91321506],\n",
       "       [ 32.38442691],\n",
       "       [ 76.15149282],\n",
       "       [-11.70766874],\n",
       "       [-11.70684785],\n",
       "       [ 78.96064078],\n",
       "       [ 38.37173646],\n",
       "       [-23.4737193 ],\n",
       "       [ 27.12800218],\n",
       "       [-23.17088464],\n",
       "       [-23.28648768],\n",
       "       [ 12.09811358],\n",
       "       [-95.66401223],\n",
       "       [-86.24589163],\n",
       "       [-28.11437646],\n",
       "       [-50.64155602],\n",
       "       [ 15.71236663],\n",
       "       [-45.40120378],\n",
       "       [-70.61518507],\n",
       "       [ 73.28243845],\n",
       "       [-11.28881502],\n",
       "       [  3.37641023],\n",
       "       [-71.23740931],\n",
       "       [-27.21913623],\n",
       "       [  5.54612949],\n",
       "       [-57.54967887],\n",
       "       [ 18.78490092],\n",
       "       [-30.0319345 ],\n",
       "       [-14.58468749],\n",
       "       [-30.08533061],\n",
       "       [ 92.61390923],\n",
       "       [ -0.67486124],\n",
       "       [-52.88554645],\n",
       "       [ 41.12724561],\n",
       "       [-61.0421825 ],\n",
       "       [ 10.44317975],\n",
       "       [-97.98350619],\n",
       "       [-66.40930244],\n",
       "       [  9.84306179],\n",
       "       [ 36.923329  ],\n",
       "       [  8.56841406],\n",
       "       [ -5.78241412],\n",
       "       [-15.05518478],\n",
       "       [-73.92609952],\n",
       "       [-35.99221042],\n",
       "       [-23.03193855],\n",
       "       [ 52.85611131],\n",
       "       [ 17.18091448],\n",
       "       [-88.15200777]])"
      ]
     },
     "execution_count": 26,
     "metadata": {},
     "output_type": "execute_result"
    }
   ],
   "source": [
    "X"
   ]
  },
  {
   "cell_type": "code",
   "execution_count": 27,
   "metadata": {},
   "outputs": [],
   "source": [
    "def plot_fit(X, y, ax=ax, on_idx=0):\n",
    "    sort_idx = X[:, on_idx].argsort()\n",
    "    X_sorted = X[ sort_idx, : ]\n",
    "    y_sorted = y[ sort_idx, : ]\n",
    "    \n",
    "    _ = ax.plot( X_sorted[:, on_idx], y_sorted, color='red' )"
   ]
  },
  {
   "cell_type": "code",
   "execution_count": 28,
   "metadata": {},
   "outputs": [],
   "source": [
    "def transform(X):\n",
    "    X_p2 = np.concatenate( [X, X**2], axis=1 )\n",
    "    return X_p2\n",
    "\n",
    "def run_regression(X, y, run_transforms=False):\n",
    "    X_train, X_test, y_train, y_test = split(X, y)\n",
    "    \n",
    "    if(run_transforms):\n",
    "        X_train = transform(X_train)\n",
    "        X_test = transform(X_test)\n",
    "        \n",
    "    regr = linear_model.LinearRegression()\n",
    "    \n",
    "    _ = regr.fit(X_train, y_train)\n",
    "    \n",
    "    print('Coefficient:\\n', regr.intercept_, regr.coef_)\n",
    "    y_pred = regr.predict(X_test)\n",
    "    \n",
    "    print(\"R-squared (test): {:.2f}\".format(r2_score(y_test, y_pred)))\n",
    "    \n",
    "    y_pred_train = regr.predict(X_train)\n",
    "    print(\"R-squared (train): {:.2f}\".format(r2_score(y_train, y_pred_train)))\n",
    "    \n",
    "    fig = plt.figure()\n",
    "    ax = fig.add_subplot(1,1,1)\n",
    "    \n",
    "    _ = ax.scatter(X_test[:,0], y_test, color='black')\n",
    "    _ = ax.scatter(X_test[:,0], y_pred, color='red')\n",
    "    \n",
    "    plot_fit(X_test, y_pred, ax=ax, on_idx=0)\n",
    "    _ = ax.set_xlabel(xlabel)\n",
    "    _ = ax.set_ylabel(ylabel)\n",
    "    \n",
    "    return"
   ]
  },
  {
   "cell_type": "code",
   "execution_count": 29,
   "metadata": {},
   "outputs": [
    {
     "name": "stdout",
     "output_type": "stream",
     "text": [
      "Coefficient:\n",
      " [4.93224426] [[0.96836946]]\n",
      "R-squared (test): 0.98\n",
      "R-squared (train): 0.98\n"
     ]
    },
    {
     "data": {
      "image/png": "[encoded data removed]",
      "text/plain": [
       "<Figure size 432x288 with 1 Axes>"
      ]
     },
     "metadata": {},
     "output_type": "display_data"
    }
   ],
   "source": [
    "run_regression(X_orig, y_orig)"
   ]
  },
  {
   "cell_type": "code",
   "execution_count": 30,
   "metadata": {},
   "outputs": [
    {
     "name": "stdout",
     "output_type": "stream",
     "text": [
      "Coefficient:\n",
      " [9.86448852] [[0.93673892]]\n",
      "R-squared (test): 0.91\n",
      "R-squared (train): 0.91\n"
     ]
    },
    {
     "data": {
      "image/png": "[encoded data removed]",
      "text/plain": [
       "<Figure size 432x288 with 1 Axes>"
      ]
     },
     "metadata": {},
     "output_type": "display_data"
    }
   ],
   "source": [
    "run_regression(X_curve, y_curve)"
   ]
  },
  {
   "cell_type": "code",
   "execution_count": 31,
   "metadata": {
    "scrolled": true
   },
   "outputs": [
    {
     "name": "stdout",
     "output_type": "stream",
     "text": [
      "Coefficient:\n",
      " [-3.55271368e-15] [[1.    0.005]]\n",
      "R-squared (test): 1.00\n",
      "R-squared (train): 1.00\n"
     ]
    },
    {
     "data": {
      "image/png": "[encoded data removed]",
      "text/plain": [
       "<Figure size 432x288 with 1 Axes>"
      ]
     },
     "metadata": {},
     "output_type": "display_data"
    }
   ],
   "source": [
    "run_regression(X_curve, y_curve, True)"
   ]
  },
  {
   "cell_type": "code",
   "execution_count": 41,
   "metadata": {},
   "outputs": [
    {
     "data": {
      "text/plain": [
       "Pipeline(memory=None,\n",
       "     steps=[('polynomialfeatures', PolynomialFeatures(degree=2, include_bias=True, interaction_only=False)), ('linearregression', LinearRegression(copy_X=True, fit_intercept=True, n_jobs=1, normalize=False))])"
      ]
     },
     "execution_count": 41,
     "metadata": {},
     "output_type": "execute_result"
    },
    {
     "name": "stdout",
     "output_type": "stream",
     "text": [
      "Score (train):  1.0\n",
      "Score (test):  1.0\n",
      "Last element of pipeline:  ('linearregression', LinearRegression(copy_X=True, fit_intercept=True, n_jobs=1, normalize=False))\n",
      "Score (test, via LinearRegression object):  0.8671060075570481\n",
      "R-squared score (test): 1.00\n"
     ]
    },
    {
     "data": {
      "image/png": "[encoded data removed]",
      "text/plain": [
       "<Figure size 432x288 with 2 Axes>"
      ]
     },
     "metadata": {},
     "output_type": "display_data"
    }
   ],
   "source": [
    "X_curve, y_curve = gd.gen_data(num=50, v=v2, a=a2)\n",
    "\n",
    "X_train, X_test, y_train, y_test = split(X_curve, y_curve)\n",
    "\n",
    "xfit = np.linspace(0, 10, 1000)\n",
    "\n",
    "from sklearn.preprocessing import PolynomialFeatures\n",
    "import sklearn.preprocessing as pre_proc\n",
    "\n",
    "from sklearn.pipeline import make_pipeline\n",
    "poly_model = make_pipeline(pre_proc.PolynomialFeatures(2), linear_model.LinearRegression())\n",
    "\n",
    "x=None\n",
    "y=None\n",
    "\n",
    "poly_model.fit(X_train.reshape(-1,1), y_train)\n",
    "\n",
    "xfit = np.linspace( X_train[:,0].min(), X_train[:,0].max() ).reshape(-1,1)\n",
    "yfit = poly_model.predict(xfit)\n",
    "\n",
    "fig = plt.figure()\n",
    "\n",
    "ax = fig.add_subplot(121)\n",
    "_ = ax.scatter(X_train, y_train)\n",
    "_ = ax.scatter(xfit, yfit)\n",
    "\n",
    "y_pred = poly_model.predict(X_test.reshape(-1,1))\n",
    "\n",
    "print(\"Score (train): \", poly_model.score(X_train.reshape(-1,1), y_train))\n",
    "print(\"Score (test): \", poly_model.score(X_test.reshape(-1,1), y_test))\n",
    "\n",
    "print(\"Last element of pipeline: \", poly_model.steps[1])\n",
    "regr_ = poly_model.steps[-1]\n",
    "\n",
    "print(\"Score (test, via LinearRegression object): \", regr.score(X_test.reshape(-1,1), y_test))\n",
    "\n",
    "ax = fig.add_subplot(122)\n",
    "_ = ax.scatter(X_test, y_test, color='blue')\n",
    "_ = ax.scatter(X_test, y_pred, color='red')\n",
    "\n",
    "_ = ax.plot(xfit, yfit)\n",
    "    \n",
    "print(\"R-squared score (test): {:.2f}\".format(r2_score(y_test, y_pred)))"
   ]
  },
  {
   "cell_type": "code",
   "execution_count": 42,
   "metadata": {},
   "outputs": [
    {
     "data": {
      "text/plain": [
       "[('polynomialfeatures',\n",
       "  PolynomialFeatures(degree=2, include_bias=True, interaction_only=False)),\n",
       " ('linearregression',\n",
       "  LinearRegression(copy_X=True, fit_intercept=True, n_jobs=1, normalize=False))]"
      ]
     },
     "execution_count": 42,
     "metadata": {},
     "output_type": "execute_result"
    }
   ],
   "source": [
    "poly_model.steps"
   ]
  },
  {
   "cell_type": "code",
   "execution_count": 43,
   "metadata": {},
   "outputs": [
    {
     "data": {
      "text/plain": [
       "('linearregression',\n",
       " LinearRegression(copy_X=True, fit_intercept=True, n_jobs=1, normalize=False))"
      ]
     },
     "execution_count": 43,
     "metadata": {},
     "output_type": "execute_result"
    }
   ],
   "source": [
    "poly_model.steps[-1]"
   ]
  },
  {
   "cell_type": "code",
   "execution_count": 45,
   "metadata": {},
   "outputs": [
    {
     "data": {
      "text/plain": [
       "Pipeline(memory=None,\n",
       "     steps=[('polynomialfeatures', PolynomialFeatures(degree=7, include_bias=True, interaction_only=False)), ('linearregression', LinearRegression(copy_X=True, fit_intercept=True, n_jobs=1, normalize=False))])"
      ]
     },
     "execution_count": 45,
     "metadata": {},
     "output_type": "execute_result"
    },
    {
     "data": {
      "image/png": "[encoded data removed]",
      "text/plain": [
       "<Figure size 432x288 with 1 Axes>"
      ]
     },
     "metadata": {},
     "output_type": "display_data"
    }
   ],
   "source": [
    "xfit = np.linspace(0, 10, 1000)\n",
    "\n",
    "from sklearn.preprocessing import PolynomialFeatures\n",
    "\n",
    "from sklearn.pipeline import make_pipeline\n",
    "degree = 7\n",
    "poly_model = make_pipeline(PolynomialFeatures(degree), linear_model.LinearRegression())\n",
    "\n",
    "rng = np.random.RandomState(1)\n",
    "x = 10 * rng.rand(50)\n",
    "y = np.sin(x) + 0.1 * rng.randn(50)\n",
    "\n",
    "poly_model.fit(x[:, np.newaxis], y)\n",
    "yfit = poly_model.predict(xfit[:, np.newaxis])\n",
    "\n",
    "_ = plt.scatter(x, y)\n",
    "_ = plt.plot(xfit, yfit)"
   ]
  },
  {
   "cell_type": "code",
   "execution_count": null,
   "metadata": {},
   "outputs": [],
   "source": []
  },
  {
   "cell_type": "code",
   "execution_count": null,
   "metadata": {},
   "outputs": [],
   "source": []
  },
  {
   "cell_type": "code",
   "execution_count": null,
   "metadata": {},
   "outputs": [],
   "source": []
  },
  {
   "cell_type": "code",
   "execution_count": null,
   "metadata": {},
   "outputs": [],
   "source": []
  }
 ],
 "metadata": {
  "kernelspec": {
   "display_name": "Python 3",
   "language": "python",
   "name": "python3"
  },
  "language_info": {
   "codemirror_mode": {
    "name": "ipython",
    "version": 3
   },
   "file_extension": ".py",
   "mimetype": "text/x-python",
   "name": "python",
   "nbconvert_exporter": "python",
   "pygments_lexer": "ipython3",
   "version": "3.6.8"
  },
  "toc": {
   "base_numbering": 1,
   "nav_menu": {},
   "number_sections": true,
   "sideBar": true,
   "skip_h1_title": false,
   "title_cell": "Table of Contents",
   "title_sidebar": "Contents",
   "toc_cell": false,
   "toc_position": {},
   "toc_section_display": true,
   "toc_window_display": false
  }
 },
 "nbformat": 4,
 "nbformat_minor": 2
}
