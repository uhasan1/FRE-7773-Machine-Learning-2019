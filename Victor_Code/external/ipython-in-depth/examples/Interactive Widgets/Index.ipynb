{
 "cells": [
  {
   "cell_type": "markdown",
   "metadata": {},
   "source": [
    "<img src=\"../images/ipython_logo.png\">"
   ]
  },
  {
   "cell_type": "markdown",
   "metadata": {},
   "source": [
    "Back to the main [Index](../Index.ipynb)"
   ]
  },
  {
   "cell_type": "markdown",
   "metadata": {},
   "source": [
    "# Interactive Widgets"
   ]
  },
  {
   "cell_type": "markdown",
   "metadata": {},
   "source": [
    "IPython includes an architecture for interactive widgets that tie together Python code running in the kernel and JavaScript/HTML/CSS  running in the browser. These widgets enable users to explore their code and data interactively."
   ]
  },
  {
   "cell_type": "markdown",
   "metadata": {},
   "source": [
    "## Tutorials"
   ]
  },
  {
   "cell_type": "markdown",
   "metadata": {},
   "source": [
    "- [Using Interact](Using%20Interact.ipynb)\n",
    "- [Widget Basics](Widget%20Basics.ipynb)  \n",
    "- [Widget Events](Widget%20Events.ipynb)  \n",
    "- [Widget Placement](Widget%20Placement.ipynb)  \n",
    "- [Widget Styling](Widget%20Styling.ipynb)    \n",
    "- [Custom Widget](Custom%20Widget%20-%20Hello%20World.ipynb)"
   ]
  },
  {
   "cell_type": "markdown",
   "metadata": {},
   "source": [
    "## Examples of custom widgets"
   ]
  },
  {
   "cell_type": "markdown",
   "metadata": {},
   "source": [
    "- [Variable Inspector](Variable%20Inspector.ipynb)  \n",
    "- [Export As (nbconvert)](Export%20As%20(nbconvert%29.ipynb)  \n",
    "- [Nonblocking Console](Nonblocking%20Console.ipynb)  \n",
    "- [File Upload Widget](File%20Upload%20Widget.ipynb)"
   ]
  },
  {
   "cell_type": "markdown",
   "metadata": {},
   "source": [
    "## Examples using `interact`/`interactive`"
   ]
  },
  {
   "cell_type": "markdown",
   "metadata": {},
   "source": [
    "* [Beat Frequencies](Beat%20Frequencies.ipynb)\n",
    "* [Exploring Graphs](Exploring%20Graphs.ipynb)\n",
    "* [Factoring](Factoring.ipynb)\n",
    "* [Image Browser](Image%20Browser.ipynb)\n",
    "* [Image Processing](Image%20Processing.ipynb)\n",
    "* [Lorenz Differential Equations](Lorenz%20Differential%20Equations.ipynb)"
   ]
  }
 ],
 "metadata": {
  "kernelspec": {
   "codemirror_mode": {
    "name": "python",
    "version": 2
   },
   "display_name": "Python 2",
   "language": "python",
   "name": "python2"
  }
 },
 "nbformat": 4,
 "nbformat_minor": 0
}