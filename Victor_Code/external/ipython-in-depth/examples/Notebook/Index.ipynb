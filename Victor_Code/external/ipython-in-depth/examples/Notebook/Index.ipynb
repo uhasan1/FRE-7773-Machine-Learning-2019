{
 "cells": [
  {
   "cell_type": "markdown",
   "metadata": {},
   "source": [
    "<img src=\"../images/ipython_logo.png\">"
   ]
  },
  {
   "cell_type": "markdown",
   "metadata": {},
   "source": [
    "Back to the main [Index](../Index.ipynb)"
   ]
  },
  {
   "cell_type": "markdown",
   "metadata": {},
   "source": [
    "# Notebook"
   ]
  },
  {
   "cell_type": "markdown",
   "metadata": {},
   "source": [
    "The IPython Notebook is a web-based interactive computing system that enables users to author documents that include live code, narrative text, LaTeX equations, HTML, images and video. These documents contain a full record of a computation and its results and can be shared on email, [Dropbox](http://dropbox.com), version control systems (like git/[GitHub](http://github.com)) or [nbviewer.ipython.org](http://nbviewer.ipython.org)."
   ]
  },
  {
   "cell_type": "markdown",
   "metadata": {},
   "source": [
    "## Tutorials"
   ]
  },
  {
   "cell_type": "markdown",
   "metadata": {},
   "source": [
    "* [What is the IPython Notebook?](What%20is%20the%20IPython%20Notebook%3F.ipynb)\n",
    "* [Running the Notebook Server](Running%20the%20Notebook%20Server.ipynb)\n",
    "* [Notebook Basics](Notebook%20Basics.ipynb)\n",
    "* [Running Code](Running%20Code.ipynb)\n",
    "* [Working With Markdown Cells](Working%20With%20Markdown%20Cells.ipynb)\n",
    "* [Custom Keyboard Shortcuts](Custom%20Keyboard%20Shortcuts.ipynb)\n",
    "* [JavaScript Notebook Extensions](JavaScript%20Notebook%20Extensions.ipynb)\n",
    "* [Notebook Security](Notebook%20Security.ipynb)\n",
    "* [Converting Notebooks With nbconvert](Converting%20Notebooks%20With%20nbconvert.ipynb)\n",
    "* [Using nbconvert as a Library](Using%20nbconvert%20as%20a%20Library.ipynb)"
   ]
  },
  {
   "cell_type": "markdown",
   "metadata": {},
   "source": [
    "## Examples"
   ]
  },
  {
   "cell_type": "markdown",
   "metadata": {},
   "source": [
    "* [Importing Notebooks](Importing%20Notebooks.ipynb)\n",
    "* [Connecting with the Qt Console](Connecting%20with%20the%20Qt%20Console.ipynb)\n",
    "* [Typesetting Equations](Typesetting%20Equations.ipynb)"
   ]
  }
 ],
 "metadata": {},
 "nbformat": 4,
 "nbformat_minor": 0
}