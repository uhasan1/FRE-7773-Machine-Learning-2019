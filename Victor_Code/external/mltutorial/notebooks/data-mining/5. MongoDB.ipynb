{
 "metadata": {
  "name": "",
  "signature": "sha256:09e16c4bfbc9ec74cf600280655acc86f44886215a4de940faa26d2db6c7273e"
 },
 "nbformat": 3,
 "nbformat_minor": 0,
 "worksheets": [
  {
   "cells": [
    {
     "cell_type": "heading",
     "level": 1,
     "metadata": {},
     "source": [
      "Tutorial Brief"
     ]
    },
    {
     "cell_type": "markdown",
     "metadata": {},
     "source": [
      "Video Tutorial: http://youtu.be/2b32-KVzBXQ\n",
      "\n",
      "In many cases you don't have to go and collect the data because you have data in a local NoSQL DB that requires analysis.This could be a URL audit-trail for your website where you want to study visitors and trends. One common NoSQL Database is MongoDB which is the subject of this tutorial.\n",
      "\n",
      "- [Why to use NoSQL?](#Why-to-use-NoSQL?)\n",
      "- [Common NoSQL Databases](#Common-NoSQL-Databses)\n",
      "- [PyMongo](#PyMongo)\n",
      "- [Single document with nested documents](#Finding-a-Single-Document)\n",
      "- [Working with multiple documents](#Finding-Multiple-Documents)"
     ]
    },
    {
     "cell_type": "heading",
     "level": 1,
     "metadata": {},
     "source": [
      "Why to use NoSQL?"
     ]
    },
    {
     "cell_type": "markdown",
     "metadata": {},
     "source": [
      "NoSQL was designed to deal with the problems that came up when developers started dealing with large amount of data using the existing Relational Databases (also referred to as SQL Databases). The three main issues with SQL Databases were:\n",
      "\n",
      "###Changing Schema of Data\n",
      "SQL Databases had fixed schema of tables which limited the ability to store new fields in your table. You have to change the table schema when ever you need a new field.\n",
      "\n",
      "###The Volume of Data in Storage\n",
      "SQL Databases can store virtually billions of records in a single table but the problem was the overhead cost to your CPU and memory to be able to access this data efficiently.\n",
      "\n",
      "###The Frequency of Adding New Data\n",
      "SQL databases are not designed to insert large amount of records in short time specially to large tables.\n",
      "\n",
      "##What did NoSQL Do?\n",
      "- Document based archives use a JSON-like format to store rows in a collection. This allows the collection to store data in any schema without changing the database.\n",
      "- NoSQL databases use different distributed clustering systems to store data in multiple machines and distribute the processing power over multiple machines. MongoDB uses GridFS and some other databases use Hadoop.\n",
      "- NoSQL dropped the support for relational data which required multiple read operations to ensure PK integrity in a relation. This reduced the cost of storing new data to simply storing the data on disk and generating PK in some systems."
     ]
    },
    {
     "cell_type": "heading",
     "level": 1,
     "metadata": {},
     "source": [
      "Common NoSQL Databases"
     ]
    },
    {
     "cell_type": "markdown",
     "metadata": {},
     "source": [
      "##MongoDB\n",
      "\n",
      "![MongoDB](http://www.mongodb.com/sites/mongodb.com/files/media/mongodb-logo-web.png)\n",
      "\n",
      "> <p><b>MongoDB</b> (from \"hu<b>mongo</b>us\") is a cross-platform <a href=\"http://en.wikipedia.org/wiki/Document-oriented_database\" title=\"Document-oriented database\">document-oriented database</a>. Classified as a <a href=\"http://en.wikipedia.org/wiki/NoSQL\" title=\"NoSQL\">NoSQL</a> database, MongoDB eschews the traditional table-based <a href=\"http://en.wikipedia.org/wiki/Relational_database\" title=\"Relational database\">relational database</a> structure in favor of <a href=\"http://en.wikipedia.org/wiki/JSON\" title=\"JSON\">JSON</a>-like documents with dynamic <a href=\"http://en.wikipedia.org/wiki/Database_schema\" title=\"Database schema\">schemas</a> (MongoDB calls the format <a href=\"http://en.wikipedia.org/wiki/BSON\" title=\"BSON\">BSON</a>), making the integration of data in certain types of applications easier and faster. Released under a combination of the <a href=\"http://en.wikipedia.org/wiki/GNU_Affero_General_Public_License\" title=\"GNU Affero General Public License\" class=\"mw-redirect\">GNU Affero General Public License</a> and the <a href=\"http://en.wikipedia.org/wiki/Apache_License\" title=\"Apache License\">Apache License</a>, MongoDB is <a href=\"http://en.wikipedia.org/wiki/Free_and_open_source_software\" title=\"Free and open source software\" class=\"mw-redirect\">free and open-source software</a>.</p>\n",
      "> ####from [Wikipedia](http://en.wikipedia.org/wiki/MongoDB)\n",
      "\n",
      "##Apache Casandra\n",
      "\n",
      "<img alt=\"Cassandra logo\" src=\"//upload.wikimedia.org/wikipedia/commons/thumb/5/5e/Cassandra_logo.svg/220px-Cassandra_logo.svg.png\" srcset=\"//upload.wikimedia.org/wikipedia/commons/thumb/5/5e/Cassandra_logo.svg/330px-Cassandra_logo.svg.png 1.5x, //upload.wikimedia.org/wikipedia/commons/thumb/5/5e/Cassandra_logo.svg/440px-Cassandra_logo.svg.png 2x\" data-file-width=\"279\" data-file-height=\"187\" height=\"147\" width=\"220\">\n",
      "\n",
      "> <p><b>Apache Cassandra</b> is an <a href=\"http://en.wikipedia.org/wiki/Open_source_software\" title=\"Open source software\" class=\"mw-redirect\">open source</a> <a href=\"http://en.wikipedia.org/wiki/Distributed_database\" title=\"Distributed database\">distributed</a> <a href=\"http://en.wikipedia.org/wiki/Database_management_system\" title=\"Database management system\" class=\"mw-redirect\">database management system</a> designed to handle large amounts of data across many commodity servers, providing high availability with no single point of failure. Cassandra offers robust support for clusters spanning multiple datacenters,<sup id=\"cite_ref-1\" class=\"reference\"><a href=\"http://en.wikipedia.org/wiki/Apache_Cassandra#cite_note-1\"><span>[</span>1<span>]</span></a></sup> with asynchronous masterless replication allowing low latency operations for all clients.</p>\n",
      "> ####from [Wikipedia](http://en.wikipedia.org/wiki/Apache_Cassandra)\n",
      "\n",
      "##Apache HBase\n",
      "\n",
      "![HBase](http://upload.wikimedia.org/wikipedia/en/e/e7/HBase_Logo.png)\n",
      "\n",
      "><p><b>HBase</b> is an <a href=\"http://en.wikipedia.org/wiki/Open_source\" title=\"Open source\">open source</a>, <a href=\"http://en.wikipedia.org/wiki/Non-relational_database\" title=\"Non-relational database\" class=\"mw-redirect\">non-relational</a>, <a href=\"http://en.wikipedia.org/wiki/Distributed_database\" title=\"Distributed database\">distributed database</a> modeled after <a href=\"http://en.wikipedia.org/wiki/Google\" title=\"Google\">Google's</a> <a href=\"http://en.wikipedia.org/wiki/BigTable\" title=\"BigTable\">BigTable</a> and written in <a href=\"http://en.wikipedia.org/wiki/Java_(programming_language)\" title=\"Java (programming language)\">Java</a>. It is developed as part of <a href=\"http://en.wikipedia.org/wiki/Apache_Software_Foundation\" title=\"Apache Software Foundation\">Apache Software Foundation</a>'s <a href=\"http://en.wikipedia.org/wiki/Hadoop\" title=\"Hadoop\" class=\"mw-redirect\">Apache Hadoop</a> project and runs on top of <a href=\"http://en.wikipedia.org/wiki/Hadoop_Distributed_Filesystem\" title=\"Hadoop Distributed Filesystem\" class=\"mw-redirect\">HDFS (Hadoop Distributed Filesystem)</a>, providing BigTable-like capabilities for Hadoop. That is, it provides a <a href=\"http://en.wikipedia.org/wiki/Fault-tolerant\" title=\"Fault-tolerant\" class=\"mw-redirect\">fault-tolerant</a> way of storing large quantities of <a href=\"http://en.wikipedia.org/wiki/Sparse_file\" title=\"Sparse file\">sparse</a> data (small amounts of information caught within a large collection of empty or unimportant data, such as finding the 50 largest items in a group of 2 billion records, or finding the non-zero items representing less than 0.1% of a huge collection).</p>\n",
      "> ####from [Wikipedia](http://en.wikipedia.org/wiki/Apache_HBase)\n",
      "\n",
      "##CouchDB\n",
      "\n",
      "![CouchDB](http://couchdb.apache.org/image/couch.png)\n",
      "\n",
      "><p><b>Apache CouchDB</b>, commonly referred to as <b>CouchDB</b>, is an <a href=\"http://en.wikipedia.org/wiki/Open-source_software\" title=\"Open-source software\">open source</a> database that focuses on ease of use and on being \"a database that completely embraces the web\".<sup id=\"cite_ref-official-website_1-0\" class=\"reference\"><a href=\"http://en.wikipedia.org/wiki/CouchDB#cite_note-official-website-1\"><span>[</span>1<span>]</span></a></sup> It is a <a href=\"http://en.wikipedia.org/wiki/NoSQL\" title=\"NoSQL\">NoSQL</a> database that uses <a href=\"http://en.wikipedia.org/wiki/JSON\" title=\"JSON\">JSON</a> to store data, <a href=\"http://en.wikipedia.org/wiki/JavaScript\" title=\"JavaScript\">JavaScript</a> as its query language using <a href=\"http://en.wikipedia.org/wiki/MapReduce\" title=\"MapReduce\">MapReduce</a>, and <a href=\"http://en.wikipedia.org/wiki/HTTP\" title=\"HTTP\" class=\"mw-redirect\">HTTP</a> for an <a href=\"http://en.wikipedia.org/wiki/API\" title=\"API\" class=\"mw-redirect\">API</a>.<sup id=\"cite_ref-official-website_1-1\" class=\"reference\"><a href=\"http://en.wikipedia.org/wiki/CouchDB#cite_note-official-website-1\"><span>[</span>1<span>]</span></a></sup> One of its distinguishing features is <a href=\"http://en.wikipedia.org/wiki/Multi-master_replication\" title=\"Multi-master replication\">multi-master replication</a>. CouchDB was first released in 2005 and later became an <a href=\"http://en.wikipedia.org/wiki/Apache_Software_Foundation\" title=\"Apache Software Foundation\">Apache</a> project in 2008.</p>\n",
      ">#### from [Wikipedia](http://en.wikipedia.org/wiki/CouchDB)\n",
      "\n",
      "##Cloud Only NoSQL (Managed Services)\n",
      "\n",
      "- [Amazon Dynamo DB](http://aws.amazon.com/dynamodb/)\n",
      "- [Google DataStore](https://cloud.google.com/datastore/)\n",
      "\n",
      "##Other Options:\n",
      "\n",
      "- [MySQL Cluter (Suports both SQL and NoSQL)](http://www.mysql.com/products/cluster/nosql.html)"
     ]
    },
    {
     "cell_type": "heading",
     "level": 1,
     "metadata": {},
     "source": [
      "PyMongo"
     ]
    },
    {
     "cell_type": "markdown",
     "metadata": {},
     "source": [
      "Documentation: http://api.mongodb.org/python/current/"
     ]
    },
    {
     "cell_type": "heading",
     "level": 2,
     "metadata": {},
     "source": [
      "Importing the Library"
     ]
    },
    {
     "cell_type": "code",
     "collapsed": false,
     "input": [
      "import pymongo"
     ],
     "language": "python",
     "metadata": {},
     "outputs": [],
     "prompt_number": 1
    },
    {
     "cell_type": "heading",
     "level": 2,
     "metadata": {},
     "source": [
      "Creating a Connection"
     ]
    },
    {
     "cell_type": "code",
     "collapsed": false,
     "input": [
      "client_con = pymongo.MongoClient()"
     ],
     "language": "python",
     "metadata": {},
     "outputs": [],
     "prompt_number": 2
    },
    {
     "cell_type": "heading",
     "level": 2,
     "metadata": {},
     "source": [
      "Exploring MongoDB"
     ]
    },
    {
     "cell_type": "heading",
     "level": 3,
     "metadata": {},
     "source": [
      "Listing Available Databases"
     ]
    },
    {
     "cell_type": "code",
     "collapsed": false,
     "input": [
      "client_con.database_names()"
     ],
     "language": "python",
     "metadata": {},
     "outputs": [
      {
       "metadata": {},
       "output_type": "pyout",
       "prompt_number": 3,
       "text": [
        "[u'mydb', u'local', u'roshan', u'admin']"
       ]
      }
     ],
     "prompt_number": 3
    },
    {
     "cell_type": "heading",
     "level": 3,
     "metadata": {},
     "source": [
      "Listing Available Collections"
     ]
    },
    {
     "cell_type": "code",
     "collapsed": false,
     "input": [
      "roshan_db = client_con[\"roshan\"]\n",
      "roshan_db.collection_names()"
     ],
     "language": "python",
     "metadata": {},
     "outputs": [
      {
       "metadata": {},
       "output_type": "pyout",
       "prompt_number": 4,
       "text": [
        "[u'system.indexes',\n",
        " u'Twitter',\n",
        " u'SearchTweets',\n",
        " u'TwitterFollowers',\n",
        " u'TwitterUserSearch',\n",
        " u'TCelebrities',\n",
        " u'TwitterFriendsIds',\n",
        " u'TwitterFollowersIds',\n",
        " u'TwitterIds',\n",
        " u'TwiiterTemp',\n",
        " u'test youtube']"
       ]
      }
     ],
     "prompt_number": 4
    },
    {
     "cell_type": "heading",
     "level": 2,
     "metadata": {},
     "source": [
      "Connecting to a Collection"
     ]
    },
    {
     "cell_type": "code",
     "collapsed": false,
     "input": [
      "twitter_col = roshan_db[\"Twitter\"]"
     ],
     "language": "python",
     "metadata": {},
     "outputs": [],
     "prompt_number": 5
    },
    {
     "cell_type": "heading",
     "level": 2,
     "metadata": {},
     "source": [
      "Counting Documents in a Collection"
     ]
    },
    {
     "cell_type": "code",
     "collapsed": false,
     "input": [
      "twitter_col.count()"
     ],
     "language": "python",
     "metadata": {},
     "outputs": [
      {
       "metadata": {},
       "output_type": "pyout",
       "prompt_number": 6,
       "text": [
        "1045260"
       ]
      }
     ],
     "prompt_number": 6
    },
    {
     "cell_type": "heading",
     "level": 2,
     "metadata": {},
     "source": [
      "Finding a Single Document"
     ]
    },
    {
     "cell_type": "code",
     "collapsed": false,
     "input": [
      "doc = twitter_col.find_one()\n",
      "doc"
     ],
     "language": "python",
     "metadata": {},
     "outputs": [
      {
       "metadata": {},
       "output_type": "pyout",
       "prompt_number": 7,
       "text": [
        "{u'_id': ObjectId('543d819c105f1913c74ab20b'),\n",
        " u'contributors': None,\n",
        " u'coordinates': None,\n",
        " u'created_at': u'Tue Oct 14 20:04:05 +0000 2014',\n",
        " u'entities': {u'hashtags': [],\n",
        "  u'symbols': [],\n",
        "  u'trends': [],\n",
        "  u'urls': [],\n",
        "  u'user_mentions': []},\n",
        " u'favorite_count': 0,\n",
        " u'favorited': False,\n",
        " u'filter_level': u'medium',\n",
        " u'geo': None,\n",
        " u'id': 522115647623692288L,\n",
        " u'id_str': u'522115647623692288',\n",
        " u'in_reply_to_screen_name': None,\n",
        " u'in_reply_to_status_id': None,\n",
        " u'in_reply_to_status_id_str': None,\n",
        " u'in_reply_to_user_id': None,\n",
        " u'in_reply_to_user_id_str': None,\n",
        " u'lang': u'ar',\n",
        " u'place': None,\n",
        " u'possibly_sensitive': False,\n",
        " u'retweet_count': 0,\n",
        " u'retweeted': False,\n",
        " u'source': u'<a href=\"http://w.drr-alkalam.com/\" rel=\"nofollow\">\\u062f\\u0631\\u0631 \\u0627\\u0644\\u0643\\u0644\\u0627\\u0645 3</a>',\n",
        " u'text': u'\\u0627\\u0644\\u0632\\u0646\\u0643 \\u064a\\u0648\\u062c\\u062f \\u0628\\u0648\\u0641\\u0631\\u0629 \\u0627\\u0644\\u0644\\u062d\\u0645 \\u0648\\u0627\\u0644\\u0633\\u0645\\u0643 \\u0648\\u0627\\u0644\\u062d\\u0644\\u064a\\u0628 \\u0627\\u0644\\u0637\\u0627\\u0632\\u062c \\u0648 \\u0627\\u0644\\u062c\\u0628\\u0646 \\u0627\\u0644\\u0637\\u0627\\u0632\\u062c \\u0648 \\u0627\\u0644\\u0628\\u0642\\u0648\\u0644\\u064a\\u0627\\u062a \\u0648 \\u0627\\u0644\\u0644\\u0628\\u0646, \\u0643\\u0645\\u0627 \\u064a\\u0645\\u0643\\u0646 \\u062a\\u0646\\u0627\\u0648\\u0644\\u0647 \\u0643\\u0645\\u0643\\u0645\\u0644\\u0627\\u062a \\u063a\\u0630\\u0627\\u0626\\u064a\\u0629.',\n",
        " u'timestamp_ms': u'1413317045494',\n",
        " u'truncated': False,\n",
        " u'user': {u'contributors_enabled': False,\n",
        "  u'created_at': u'Mon Sep 15 09:21:34 +0000 2014',\n",
        "  u'default_profile': True,\n",
        "  u'default_profile_image': False,\n",
        "  u'description': u'\\u062a\\u0631\\u0628\\u064a\\u0647\\u06c1 \\u0629 \\u0634\\u0627\\u064a\\u0628 \\u0648\\u0648\\u0644\\u0648 \\ufe8e\\u0646\\u0646\\u064a\\u064a\\u064e \\u0641\\u0642\\u064a\\u0631 \\ufe8e\\u0639\\u0637\\u064a\\u064a\\u0621 \\ufe8e\\u0644\\u062d\\u0627\\u062c\\u0647\\u06c1 \\u0648\\ufe8e\\u0646\\u0627 \\u0645\\u062d\\u062a\\u0627\\u062c\\u0647\\u0627\\u0627 \\u060c PIN:264400B1',\n",
        "  u'favourites_count': 0,\n",
        "  u'follow_request_sent': None,\n",
        "  u'followers_count': 133,\n",
        "  u'following': None,\n",
        "  u'friends_count': 119,\n",
        "  u'geo_enabled': False,\n",
        "  u'id': 2811023737L,\n",
        "  u'id_str': u'2811023737',\n",
        "  u'is_translator': False,\n",
        "  u'lang': u'en',\n",
        "  u'listed_count': 0,\n",
        "  u'location': u'',\n",
        "  u'name': u'\\u0639\\u0640\\u0627\\u0645\\u0640\\u062f \\u0627\\u0644\\u0640\\u0639\\u0640\\u0637\\u0640\\u0627\\u0648\\u064a',\n",
        "  u'notifications': None,\n",
        "  u'profile_background_color': u'C0DEED',\n",
        "  u'profile_background_image_url': u'http://abs.twimg.com/images/themes/theme1/bg.png',\n",
        "  u'profile_background_image_url_https': u'https://abs.twimg.com/images/themes/theme1/bg.png',\n",
        "  u'profile_background_tile': False,\n",
        "  u'profile_image_url': u'http://pbs.twimg.com/profile_images/511445636961419264/9enIvHyS_normal.png',\n",
        "  u'profile_image_url_https': u'https://pbs.twimg.com/profile_images/511445636961419264/9enIvHyS_normal.png',\n",
        "  u'profile_link_color': u'0084B4',\n",
        "  u'profile_sidebar_border_color': u'C0DEED',\n",
        "  u'profile_sidebar_fill_color': u'DDEEF6',\n",
        "  u'profile_text_color': u'333333',\n",
        "  u'profile_use_background_image': True,\n",
        "  u'protected': False,\n",
        "  u'screen_name': u'Aamdaladawe_',\n",
        "  u'statuses_count': 209,\n",
        "  u'time_zone': None,\n",
        "  u'url': None,\n",
        "  u'utc_offset': None,\n",
        "  u'verified': False}}"
       ]
      }
     ],
     "prompt_number": 7
    },
    {
     "cell_type": "heading",
     "level": 2,
     "metadata": {},
     "source": [
      "Examining a Document"
     ]
    },
    {
     "cell_type": "heading",
     "level": 3,
     "metadata": {},
     "source": [
      "ObjectId"
     ]
    },
    {
     "cell_type": "markdown",
     "metadata": {},
     "source": [
      "Documentation: http://docs.mongodb.org/manual/reference/object-id/"
     ]
    },
    {
     "cell_type": "code",
     "collapsed": false,
     "input": [
      "document_id = doc[\"_id\"]\n",
      "print type(document_id)\n",
      "document_id"
     ],
     "language": "python",
     "metadata": {},
     "outputs": [
      {
       "output_type": "stream",
       "stream": "stdout",
       "text": [
        "<class 'bson.objectid.ObjectId'>\n"
       ]
      },
      {
       "metadata": {},
       "output_type": "pyout",
       "prompt_number": 8,
       "text": [
        "ObjectId('543d819c105f1913c74ab20b')"
       ]
      }
     ],
     "prompt_number": 8
    },
    {
     "cell_type": "code",
     "collapsed": false,
     "input": [
      "print document_id.generation_time.strftime(\"%Y-%m-%d %H:%M:%SZ%z\")"
     ],
     "language": "python",
     "metadata": {},
     "outputs": [
      {
       "output_type": "stream",
       "stream": "stdout",
       "text": [
        "2014-10-14 20:03:40Z+0000\n"
       ]
      }
     ],
     "prompt_number": 9
    },
    {
     "cell_type": "heading",
     "level": 3,
     "metadata": {},
     "source": [
      "Other Fields"
     ]
    },
    {
     "cell_type": "code",
     "collapsed": false,
     "input": [
      "doc[\"created_at\"]"
     ],
     "language": "python",
     "metadata": {},
     "outputs": [
      {
       "metadata": {},
       "output_type": "pyout",
       "prompt_number": 10,
       "text": [
        "u'Tue Oct 14 20:04:05 +0000 2014'"
       ]
      }
     ],
     "prompt_number": 10
    },
    {
     "cell_type": "code",
     "collapsed": false,
     "input": [
      "doc[\"text\"]"
     ],
     "language": "python",
     "metadata": {},
     "outputs": [
      {
       "metadata": {},
       "output_type": "pyout",
       "prompt_number": 11,
       "text": [
        "u'\\u0627\\u0644\\u0632\\u0646\\u0643 \\u064a\\u0648\\u062c\\u062f \\u0628\\u0648\\u0641\\u0631\\u0629 \\u0627\\u0644\\u0644\\u062d\\u0645 \\u0648\\u0627\\u0644\\u0633\\u0645\\u0643 \\u0648\\u0627\\u0644\\u062d\\u0644\\u064a\\u0628 \\u0627\\u0644\\u0637\\u0627\\u0632\\u062c \\u0648 \\u0627\\u0644\\u062c\\u0628\\u0646 \\u0627\\u0644\\u0637\\u0627\\u0632\\u062c \\u0648 \\u0627\\u0644\\u0628\\u0642\\u0648\\u0644\\u064a\\u0627\\u062a \\u0648 \\u0627\\u0644\\u0644\\u0628\\u0646, \\u0643\\u0645\\u0627 \\u064a\\u0645\\u0643\\u0646 \\u062a\\u0646\\u0627\\u0648\\u0644\\u0647 \\u0643\\u0645\\u0643\\u0645\\u0644\\u0627\\u062a \\u063a\\u0630\\u0627\\u0626\\u064a\\u0629.'"
       ]
      }
     ],
     "prompt_number": 11
    },
    {
     "cell_type": "heading",
     "level": 4,
     "metadata": {},
     "source": [
      "Unicode Trick"
     ]
    },
    {
     "cell_type": "code",
     "collapsed": false,
     "input": [
      "print doc[\"text\"]"
     ],
     "language": "python",
     "metadata": {},
     "outputs": [
      {
       "output_type": "stream",
       "stream": "stdout",
       "text": [
        "\u0627\u0644\u0632\u0646\u0643 \u064a\u0648\u062c\u062f \u0628\u0648\u0641\u0631\u0629 \u0627\u0644\u0644\u062d\u0645 \u0648\u0627\u0644\u0633\u0645\u0643 \u0648\u0627\u0644\u062d\u0644\u064a\u0628 \u0627\u0644\u0637\u0627\u0632\u062c \u0648 \u0627\u0644\u062c\u0628\u0646 \u0627\u0644\u0637\u0627\u0632\u062c \u0648 \u0627\u0644\u0628\u0642\u0648\u0644\u064a\u0627\u062a \u0648 \u0627\u0644\u0644\u0628\u0646, \u0643\u0645\u0627 \u064a\u0645\u0643\u0646 \u062a\u0646\u0627\u0648\u0644\u0647 \u0643\u0645\u0643\u0645\u0644\u0627\u062a \u063a\u0630\u0627\u0626\u064a\u0629.\n"
       ]
      }
     ],
     "prompt_number": 12
    },
    {
     "cell_type": "heading",
     "level": 2,
     "metadata": {},
     "source": [
      "Nested Documents"
     ]
    },
    {
     "cell_type": "code",
     "collapsed": false,
     "input": [
      "doc[\"user\"]"
     ],
     "language": "python",
     "metadata": {},
     "outputs": [
      {
       "metadata": {},
       "output_type": "pyout",
       "prompt_number": 13,
       "text": [
        "{u'contributors_enabled': False,\n",
        " u'created_at': u'Mon Sep 15 09:21:34 +0000 2014',\n",
        " u'default_profile': True,\n",
        " u'default_profile_image': False,\n",
        " u'description': u'\\u062a\\u0631\\u0628\\u064a\\u0647\\u06c1 \\u0629 \\u0634\\u0627\\u064a\\u0628 \\u0648\\u0648\\u0644\\u0648 \\ufe8e\\u0646\\u0646\\u064a\\u064a\\u064e \\u0641\\u0642\\u064a\\u0631 \\ufe8e\\u0639\\u0637\\u064a\\u064a\\u0621 \\ufe8e\\u0644\\u062d\\u0627\\u062c\\u0647\\u06c1 \\u0648\\ufe8e\\u0646\\u0627 \\u0645\\u062d\\u062a\\u0627\\u062c\\u0647\\u0627\\u0627 \\u060c PIN:264400B1',\n",
        " u'favourites_count': 0,\n",
        " u'follow_request_sent': None,\n",
        " u'followers_count': 133,\n",
        " u'following': None,\n",
        " u'friends_count': 119,\n",
        " u'geo_enabled': False,\n",
        " u'id': 2811023737L,\n",
        " u'id_str': u'2811023737',\n",
        " u'is_translator': False,\n",
        " u'lang': u'en',\n",
        " u'listed_count': 0,\n",
        " u'location': u'',\n",
        " u'name': u'\\u0639\\u0640\\u0627\\u0645\\u0640\\u062f \\u0627\\u0644\\u0640\\u0639\\u0640\\u0637\\u0640\\u0627\\u0648\\u064a',\n",
        " u'notifications': None,\n",
        " u'profile_background_color': u'C0DEED',\n",
        " u'profile_background_image_url': u'http://abs.twimg.com/images/themes/theme1/bg.png',\n",
        " u'profile_background_image_url_https': u'https://abs.twimg.com/images/themes/theme1/bg.png',\n",
        " u'profile_background_tile': False,\n",
        " u'profile_image_url': u'http://pbs.twimg.com/profile_images/511445636961419264/9enIvHyS_normal.png',\n",
        " u'profile_image_url_https': u'https://pbs.twimg.com/profile_images/511445636961419264/9enIvHyS_normal.png',\n",
        " u'profile_link_color': u'0084B4',\n",
        " u'profile_sidebar_border_color': u'C0DEED',\n",
        " u'profile_sidebar_fill_color': u'DDEEF6',\n",
        " u'profile_text_color': u'333333',\n",
        " u'profile_use_background_image': True,\n",
        " u'protected': False,\n",
        " u'screen_name': u'Aamdaladawe_',\n",
        " u'statuses_count': 209,\n",
        " u'time_zone': None,\n",
        " u'url': None,\n",
        " u'utc_offset': None,\n",
        " u'verified': False}"
       ]
      }
     ],
     "prompt_number": 13
    },
    {
     "cell_type": "code",
     "collapsed": false,
     "input": [
      "doc[\"user\"][\"verified\"]"
     ],
     "language": "python",
     "metadata": {},
     "outputs": [
      {
       "metadata": {},
       "output_type": "pyout",
       "prompt_number": 14,
       "text": [
        "False"
       ]
      }
     ],
     "prompt_number": 14
    },
    {
     "cell_type": "heading",
     "level": 4,
     "metadata": {},
     "source": [
      "Unicode Trick for dict"
     ]
    },
    {
     "cell_type": "code",
     "collapsed": false,
     "input": [
      "for k,v in doc[\"user\"].iteritems():\n",
      "    print \"%s: %s\" % (k,v)"
     ],
     "language": "python",
     "metadata": {},
     "outputs": [
      {
       "output_type": "stream",
       "stream": "stdout",
       "text": [
        "follow_request_sent: None\n",
        "profile_use_background_image: True\n",
        "id: 2811023737\n",
        "verified: False\n",
        "profile_image_url_https: https://pbs.twimg.com/profile_images/511445636961419264/9enIvHyS_normal.png\n",
        "profile_sidebar_fill_color: DDEEF6\n",
        "is_translator: False\n",
        "geo_enabled: False\n",
        "profile_text_color: 333333\n",
        "followers_count: 133\n",
        "protected: False\n",
        "location: \n",
        "default_profile_image: False\n",
        "id_str: 2811023737\n",
        "utc_offset: None\n",
        "statuses_count: 209\n",
        "description: \u062a\u0631\u0628\u064a\u0647\u06c1 \u0629 \u0634\u0627\u064a\u0628 \u0648\u0648\u0644\u0648 \ufe8e\u0646\u0646\u064a\u064a\u064e \u0641\u0642\u064a\u0631 \ufe8e\u0639\u0637\u064a\u064a\u0621 \ufe8e\u0644\u062d\u0627\u062c\u0647\u06c1 \u0648\ufe8e\u0646\u0627 \u0645\u062d\u062a\u0627\u062c\u0647\u0627\u0627 \u060c PIN:264400B1\n",
        "friends_count: 119\n",
        "profile_link_color: 0084B4\n",
        "profile_image_url: http://pbs.twimg.com/profile_images/511445636961419264/9enIvHyS_normal.png\n",
        "notifications: None\n",
        "profile_background_image_url_https: https://abs.twimg.com/images/themes/theme1/bg.png\n",
        "profile_background_color: C0DEED\n",
        "profile_background_image_url: http://abs.twimg.com/images/themes/theme1/bg.png\n",
        "screen_name: Aamdaladawe_\n",
        "lang: en\n",
        "profile_background_tile: False\n",
        "favourites_count: 0\n",
        "name: \u0639\u0640\u0627\u0645\u0640\u062f \u0627\u0644\u0640\u0639\u0640\u0637\u0640\u0627\u0648\u064a\n",
        "url: None\n",
        "created_at: Mon Sep 15 09:21:34 +0000 2014\n",
        "contributors_enabled: False\n",
        "time_zone: None\n",
        "profile_sidebar_border_color: C0DEED\n",
        "default_profile: True\n",
        "following: None\n",
        "listed_count: 0\n"
       ]
      }
     ],
     "prompt_number": 15
    },
    {
     "cell_type": "heading",
     "level": 2,
     "metadata": {},
     "source": [
      "Finding Multiple Documents"
     ]
    },
    {
     "cell_type": "code",
     "collapsed": false,
     "input": [
      "verified_users = twitter_col.find({\"user.verified\":True})"
     ],
     "language": "python",
     "metadata": {},
     "outputs": [],
     "prompt_number": 16
    },
    {
     "cell_type": "code",
     "collapsed": false,
     "input": [
      "verified_users.count()"
     ],
     "language": "python",
     "metadata": {},
     "outputs": [
      {
       "metadata": {},
       "output_type": "pyout",
       "prompt_number": 17,
       "text": [
        "672"
       ]
      }
     ],
     "prompt_number": 17
    },
    {
     "cell_type": "code",
     "collapsed": false,
     "input": [
      "import pandas\n",
      "\n",
      "users = pandas.DataFrame([msg[\"user\"] for msg in verified_users])\n",
      "users"
     ],
     "language": "python",
     "metadata": {},
     "outputs": [
      {
       "html": [
        "<pre>\n",
        "&lt;class 'pandas.core.frame.DataFrame'&gt;\n",
        "Int64Index: 672 entries, 0 to 671\n",
        "Data columns (total 38 columns):\n",
        "contributors_enabled                  672  non-null values\n",
        "created_at                            672  non-null values\n",
        "default_profile                       672  non-null values\n",
        "default_profile_image                 672  non-null values\n",
        "description                           672  non-null values\n",
        "favourites_count                      672  non-null values\n",
        "follow_request_sent                   0  non-null values\n",
        "followers_count                       672  non-null values\n",
        "following                             0  non-null values\n",
        "friends_count                         672  non-null values\n",
        "geo_enabled                           672  non-null values\n",
        "id                                    672  non-null values\n",
        "id_str                                672  non-null values\n",
        "is_translator                         672  non-null values\n",
        "lang                                  672  non-null values\n",
        "listed_count                          672  non-null values\n",
        "location                              672  non-null values\n",
        "name                                  672  non-null values\n",
        "notifications                         0  non-null values\n",
        "profile_background_color              672  non-null values\n",
        "profile_background_image_url          672  non-null values\n",
        "profile_background_image_url_https    672  non-null values\n",
        "profile_background_tile               672  non-null values\n",
        "profile_banner_url                    578  non-null values\n",
        "profile_image_url                     672  non-null values\n",
        "profile_image_url_https               672  non-null values\n",
        "profile_link_color                    672  non-null values\n",
        "profile_sidebar_border_color          672  non-null values\n",
        "profile_sidebar_fill_color            672  non-null values\n",
        "profile_text_color                    672  non-null values\n",
        "profile_use_background_image          672  non-null values\n",
        "protected                             672  non-null values\n",
        "screen_name                           672  non-null values\n",
        "statuses_count                        672  non-null values\n",
        "time_zone                             656  non-null values\n",
        "url                                   631  non-null values\n",
        "utc_offset                            656  non-null values\n",
        "verified                              672  non-null values\n",
        "dtypes: bool(9), float64(1), int64(6), object(22)\n",
        "</pre>"
       ],
       "metadata": {},
       "output_type": "pyout",
       "prompt_number": 18,
       "text": [
        "<class 'pandas.core.frame.DataFrame'>\n",
        "Int64Index: 672 entries, 0 to 671\n",
        "Data columns (total 38 columns):\n",
        "contributors_enabled                  672  non-null values\n",
        "created_at                            672  non-null values\n",
        "default_profile                       672  non-null values\n",
        "default_profile_image                 672  non-null values\n",
        "description                           672  non-null values\n",
        "favourites_count                      672  non-null values\n",
        "follow_request_sent                   0  non-null values\n",
        "followers_count                       672  non-null values\n",
        "following                             0  non-null values\n",
        "friends_count                         672  non-null values\n",
        "geo_enabled                           672  non-null values\n",
        "id                                    672  non-null values\n",
        "id_str                                672  non-null values\n",
        "is_translator                         672  non-null values\n",
        "lang                                  672  non-null values\n",
        "listed_count                          672  non-null values\n",
        "location                              672  non-null values\n",
        "name                                  672  non-null values\n",
        "notifications                         0  non-null values\n",
        "profile_background_color              672  non-null values\n",
        "profile_background_image_url          672  non-null values\n",
        "profile_background_image_url_https    672  non-null values\n",
        "profile_background_tile               672  non-null values\n",
        "profile_banner_url                    578  non-null values\n",
        "profile_image_url                     672  non-null values\n",
        "profile_image_url_https               672  non-null values\n",
        "profile_link_color                    672  non-null values\n",
        "profile_sidebar_border_color          672  non-null values\n",
        "profile_sidebar_fill_color            672  non-null values\n",
        "profile_text_color                    672  non-null values\n",
        "profile_use_background_image          672  non-null values\n",
        "protected                             672  non-null values\n",
        "screen_name                           672  non-null values\n",
        "statuses_count                        672  non-null values\n",
        "time_zone                             656  non-null values\n",
        "url                                   631  non-null values\n",
        "utc_offset                            656  non-null values\n",
        "verified                              672  non-null values\n",
        "dtypes: bool(9), float64(1), int64(6), object(22)"
       ]
      }
     ],
     "prompt_number": 18
    },
    {
     "cell_type": "heading",
     "level": 2,
     "metadata": {},
     "source": [
      "Filtering out duplicates"
     ]
    },
    {
     "cell_type": "code",
     "collapsed": false,
     "input": [
      "users_unique = users.drop_duplicates(cols=[\"id\"])\n",
      "print len(users_unique)"
     ],
     "language": "python",
     "metadata": {},
     "outputs": [
      {
       "output_type": "stream",
       "stream": "stdout",
       "text": [
        "222\n"
       ]
      }
     ],
     "prompt_number": 19
    },
    {
     "cell_type": "heading",
     "level": 2,
     "metadata": {},
     "source": [
      "Visualizing the realtion between number of tweets and the number of followers"
     ]
    },
    {
     "cell_type": "code",
     "collapsed": false,
     "input": [
      "x = users_unique[\"followers_count\"]\n",
      "y = users_unique[\"statuses_count\"]\n",
      "z = users_unique[\"friends_count\"]\n",
      "plt.scatter(x, y, c=z, alpha=0.4, s=200, cmap=plt.cm.Accent)\n",
      "plt.yscale(\"symlog\")\n",
      "plt.xscale(\"symlog\")\n",
      "plt.ylim(y.min(),y.max())\n",
      "plt.xlim(x.min(),x.max())\n",
      "plt.grid()\n",
      "plt.xlabel(\"followers_count\")\n",
      "plt.ylabel(\"statuses_count\")\n",
      "plt.colorbar()\n",
      "plt.show()"
     ],
     "language": "python",
     "metadata": {},
     "outputs": [
      {
       "metadata": {},
       "output_type": "display_data",
       "png": "[encoded data removed]",
       "text": [
        "<matplotlib.figure.Figure at 0x7f5c26c91a90>"
       ]
      }
     ],
     "prompt_number": 20
    }
   ],
   "metadata": {}
  }
 ]
}
