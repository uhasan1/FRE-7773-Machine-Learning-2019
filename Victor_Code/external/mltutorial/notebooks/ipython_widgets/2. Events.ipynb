{
 "metadata": {
  "name": "",
  "signature": "sha256:c95d641333791fd278e7097c70c834da61dbd26a43aa874668dfcdd14869cd67"
 },
 "nbformat": 3,
 "nbformat_minor": 0,
 "worksheets": [
  {
   "cells": [
    {
     "cell_type": "heading",
     "level": 1,
     "metadata": {},
     "source": [
      "Tutorial Brief"
     ]
    },
    {
     "cell_type": "markdown",
     "metadata": {},
     "source": [
      "Handling the wivents of widgets using:\n",
      "\n",
      "- on_click()\n",
      "- on_trait_change()\n",
      "\n",
      "**Video Tutorial**: http://youtu.be/hXS4xhyx0a8"
     ]
    },
    {
     "cell_type": "code",
     "collapsed": false,
     "input": [
      "from IPython.html import widgets"
     ],
     "language": "python",
     "metadata": {},
     "outputs": [],
     "prompt_number": 1
    },
    {
     "cell_type": "heading",
     "level": 2,
     "metadata": {},
     "source": [
      "`widgets.on_click()`"
     ]
    },
    {
     "cell_type": "code",
     "collapsed": false,
     "input": [
      "def print_msg(widget):\n",
      "    print \"You have clicked (%s)\" % widget.description\n",
      "\n",
      "container = widgets.ContainerWidget()\n",
      "\n",
      "button_1 = widgets.ButtonWidget(description=\"Click Me\")\n",
      "button_2 = widgets.ButtonWidget(description=\"Don't Click Me\")\n",
      "\n",
      "button_1.on_click(print_msg)\n",
      "button_2.on_click(print_msg)\n",
      "\n",
      "container.children = [button_1, button_2]\n",
      "\n",
      "container"
     ],
     "language": "python",
     "metadata": {},
     "outputs": [
      {
       "output_type": "stream",
       "stream": "stdout",
       "text": [
        "You have clicked (Click Me)\n"
       ]
      },
      {
       "output_type": "stream",
       "stream": "stdout",
       "text": [
        "You have clicked (Don't Click Me)\n"
       ]
      }
     ],
     "prompt_number": 2
    },
    {
     "cell_type": "heading",
     "level": 2,
     "metadata": {},
     "source": [
      "`widget.on_trait_change()`"
     ]
    },
    {
     "cell_type": "code",
     "collapsed": false,
     "input": [
      "container = widgets.ContainerWidget()\n",
      "\n",
      "control_1 = widgets.FloatTextWidget(description=\"X: \")\n",
      "control_2 = widgets.FloatTextWidget(description=\"Y: \")\n",
      "control_3 = widgets.SelectWidget(description= \"Operation\", values=[\"+\",\"-\",\"*\",\"/\"])\n",
      "control_4 = widgets.LatexWidget(value=\"Formula: NA\")\n",
      "control_5 = widgets.LatexWidget(value=\"Result: 0.0\")\n",
      "\n",
      "container.children = [control_1, control_2, control_3, control_4, control_5]\n",
      "\n",
      "def calculate_form(name):\n",
      "    # Retreive values from form\n",
      "    form = container.children\n",
      "    X = form[0].value\n",
      "    Y = form[1].value\n",
      "    operation = form[2].value\n",
      "    \n",
      "    # Build Fomula\n",
      "    formula = str(X) + operation + str(Y)\n",
      "    form[3].value = \"Formula: %s\" % formula\n",
      "    \n",
      "    # Check if Divive by Zero\n",
      "    if Y == 0.0 and operation == \"/\":\n",
      "        form[4].value = \"Div by Zero\"\n",
      "    else:\n",
      "        # Evaluate fumula\n",
      "        form[4].value = str(eval(formula))\n",
      "    print \"%s = %s\" % (formula, control_5.value)\n",
      "\n",
      "# Add Handlers\n",
      "control_1.on_trait_change(calculate_form, \"value\")\n",
      "control_2.on_trait_change(calculate_form, \"value\")\n",
      "control_3.on_trait_change(calculate_form, \"value\")\n",
      "\n",
      "container"
     ],
     "language": "python",
     "metadata": {},
     "outputs": [
      {
       "output_type": "stream",
       "stream": "stdout",
       "text": [
        "0.0-0.0 = 0.0\n"
       ]
      },
      {
       "output_type": "stream",
       "stream": "stdout",
       "text": [
        "0.0*0.0 = 0.0\n"
       ]
      },
      {
       "output_type": "stream",
       "stream": "stdout",
       "text": [
        "0.0/0.0 = Div by Zero\n"
       ]
      },
      {
       "output_type": "stream",
       "stream": "stdout",
       "text": [
        "0.0/4.0 = 0.0\n"
       ]
      },
      {
       "output_type": "stream",
       "stream": "stdout",
       "text": [
        "2.0/4.0 = 0.5\n"
       ]
      },
      {
       "output_type": "stream",
       "stream": "stdout",
       "text": [
        "2.0+4.0 = 6.0\n"
       ]
      }
     ],
     "prompt_number": 3
    },
    {
     "cell_type": "code",
     "collapsed": false,
     "input": [
      "container"
     ],
     "language": "python",
     "metadata": {},
     "outputs": [
      {
       "output_type": "stream",
       "stream": "stdout",
       "text": [
        "2.0/4.0 = 0.5\n"
       ]
      },
      {
       "output_type": "stream",
       "stream": "stdout",
       "text": [
        "2.2/4.0 = 0.55\n"
       ]
      },
      {
       "output_type": "stream",
       "stream": "stdout",
       "text": [
        "2.25/4.0 = 0.5625\n"
       ]
      },
      {
       "output_type": "stream",
       "stream": "stdout",
       "text": [
        "2.254/4.0 = 0.5635\n"
       ]
      },
      {
       "output_type": "stream",
       "stream": "stdout",
       "text": [
        "2.2547/4.0 = 0.563675\n"
       ]
      },
      {
       "output_type": "stream",
       "stream": "stdout",
       "text": [
        "2.25478/4.0 = 0.563695\n"
       ]
      },
      {
       "output_type": "stream",
       "stream": "stdout",
       "text": [
        "2.254785/4.0 = 0.56369625\n"
       ]
      },
      {
       "output_type": "stream",
       "stream": "stdout",
       "text": [
        "2.2547854/4.0 = 0.56369635\n"
       ]
      },
      {
       "output_type": "stream",
       "stream": "stdout",
       "text": [
        "2.25478546/4.0 = 0.563696365\n"
       ]
      },
      {
       "output_type": "stream",
       "stream": "stdout",
       "text": [
        "2.254785465/4.0 = 0.56369636625\n"
       ]
      },
      {
       "output_type": "stream",
       "stream": "stdout",
       "text": [
        "2.2547854658/4.0 = 0.56369636645\n"
       ]
      },
      {
       "output_type": "stream",
       "stream": "stdout",
       "text": [
        "2.25478546587/4.0 = 0.563696366467\n"
       ]
      },
      {
       "output_type": "stream",
       "stream": "stdout",
       "text": [
        "2.25478546588/4.0 = 0.56369636647\n"
       ]
      },
      {
       "output_type": "stream",
       "stream": "stdout",
       "text": [
        "2.25478546588/4.0 = 0.56369636647\n"
       ]
      },
      {
       "output_type": "stream",
       "stream": "stdout",
       "text": [
        "2.25478546588/4.0 = 0.56369636647\n"
       ]
      },
      {
       "output_type": "stream",
       "stream": "stdout",
       "text": [
        "2.25478546588/4.0 = 0.56369636647\n"
       ]
      },
      {
       "output_type": "stream",
       "stream": "stdout",
       "text": [
        "2.25478546588/4.4 = 0.512451242245\n"
       ]
      },
      {
       "output_type": "stream",
       "stream": "stdout",
       "text": [
        "2.25478546588/4.45 = 0.506693363119\n"
       ]
      },
      {
       "output_type": "stream",
       "stream": "stdout",
       "text": [
        "2.25478546588/4.458 = 0.505784088354\n"
       ]
      },
      {
       "output_type": "stream",
       "stream": "stdout",
       "text": [
        "2.25478546588/4.4585 = 0.505727367025\n"
       ]
      },
      {
       "output_type": "stream",
       "stream": "stdout",
       "text": [
        "2.25478546588/4.45854 = 0.505722829868\n"
       ]
      },
      {
       "output_type": "stream",
       "stream": "stdout",
       "text": [
        "2.25478546588/4.458542 = 0.505722603012\n"
       ]
      },
      {
       "output_type": "stream",
       "stream": "stdout",
       "text": [
        "2.25478546588/4.4585426 = 0.505722534956\n"
       ]
      },
      {
       "output_type": "stream",
       "stream": "stdout",
       "text": [
        "2.25478546588/4.45854264 = 0.505722530419\n"
       ]
      },
      {
       "output_type": "stream",
       "stream": "stdout",
       "text": [
        "2.25478546588/4.458542648 = 0.505722529511\n"
       ]
      },
      {
       "output_type": "stream",
       "stream": "stdout",
       "text": [
        "2.25478546588/4.4585426481 = 0.5057225295\n"
       ]
      }
     ],
     "prompt_number": 4
    }
   ],
   "metadata": {}
  }
 ]
}
