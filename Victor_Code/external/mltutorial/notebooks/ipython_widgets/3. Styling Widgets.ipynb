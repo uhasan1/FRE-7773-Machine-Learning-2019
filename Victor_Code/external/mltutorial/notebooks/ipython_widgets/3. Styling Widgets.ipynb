{
 "metadata": {
  "name": "",
  "signature": "sha256:dd82781b00f105187cdb9e8112116d56f6f0c50345ecf58c019b0cc5dc68f416"
 },
 "nbformat": 3,
 "nbformat_minor": 0,
 "worksheets": [
  {
   "cells": [
    {
     "cell_type": "heading",
     "level": 1,
     "metadata": {},
     "source": [
      "Tutorial Brief"
     ]
    },
    {
     "cell_type": "markdown",
     "metadata": {},
     "source": [
      "Controlling the style of your widgets using the following:\n",
      "\n",
      "- widget.visible()\n",
      "- widget.set_css()\n",
      "- widget.add_class()\n",
      "\n",
      "**Video Tutorial:**\n",
      "\n",
      "http://youtu.be/sER3W_ChuNQ"
     ]
    },
    {
     "cell_type": "code",
     "collapsed": false,
     "input": [
      "from IPython.html import widgets\n",
      "import re"
     ],
     "language": "python",
     "metadata": {},
     "outputs": [],
     "prompt_number": 1
    },
    {
     "cell_type": "heading",
     "level": 2,
     "metadata": {},
     "source": [
      "`widget.visible()`"
     ]
    },
    {
     "cell_type": "code",
     "collapsed": false,
     "input": [
      "container = widgets.ContainerWidget()\n",
      "\n",
      "widget_1 = widgets.TextWidget(description=\"Username: \")\n",
      "widget_2 = widgets.ButtonWidget(description=\"Hide\")\n",
      "widget_3 = widgets.ButtonWidget(description=\"Show\")\n",
      "\n",
      "container.children = (widget_1, widget_2, widget_3)\n",
      "\n",
      "def hide_user(widget):\n",
      "    widget_1.visible = False\n",
      "\n",
      "def show_user(widget):\n",
      "    widget_1.visible = True\n",
      "    \n",
      "widget_2.on_click(hide_user)\n",
      "widget_3.on_click(show_user)\n",
      "\n",
      "container"
     ],
     "language": "python",
     "metadata": {},
     "outputs": [],
     "prompt_number": 2
    },
    {
     "cell_type": "heading",
     "level": 2,
     "metadata": {},
     "source": [
      "`widget.set_css(self, dict_or_key, value=None, selector='')`"
     ]
    },
    {
     "cell_type": "code",
     "collapsed": false,
     "input": [
      "container = widgets.ContainerWidget()\n",
      "\n",
      "widget_1 = widgets.TextWidget(description=\"Name\")\n",
      "widget_2 = widgets.TextWidget(description=\"Email\")\n",
      "\n",
      "container.children = (widget_1, widget_2)\n",
      "\n",
      "def check_email(name, old, new):\n",
      "    new_check = re.match(r\"[^@]+@[^@]+\\.[^@]+\", new)\n",
      "    old_check = re.match(r\"[^@]+@[^@]+\\.[^@]+\", old)\n",
      "    \n",
      "    if new_check <> old_check:\n",
      "        style_email()\n",
      "\n",
      "def style_email(*args):\n",
      "    new_check = re.match(r\"[^@]+@[^@]+\\.[^@]+\", widget_2.value)\n",
      "    if new_check:\n",
      "        widget_2.set_css(\"color\", \"#228822\")\n",
      "        widget_2.set_css(\"background-color\", \"#fff\")\n",
      "        widget_2.set_css(\"font-weight\", \"400\")\n",
      "    else:\n",
      "        widget_2.set_css(\"color\", \"#ff0000\")\n",
      "        widget_2.set_css(\"background-color\", \"#ffbbbb\")\n",
      "        widget_2.set_css(\"font-weight\", \"800\")\n",
      "            \n",
      "widget_2.on_trait_change(check_email, \"value\")\n",
      "widget_2.on_displayed(style_email)\n",
      "\n",
      "container"
     ],
     "language": "python",
     "metadata": {},
     "outputs": [],
     "prompt_number": 3
    },
    {
     "cell_type": "heading",
     "level": 2,
     "metadata": {},
     "source": [
      "`widget.add_class(self, class_names, selector='')`"
     ]
    },
    {
     "cell_type": "markdown",
     "metadata": {},
     "source": [
      "You can define your own CSS calsses or use the Bootstrap library that is available"
     ]
    },
    {
     "cell_type": "heading",
     "level": 3,
     "metadata": {},
     "source": [
      "Bootstrap Classes"
     ]
    },
    {
     "cell_type": "heading",
     "level": 4,
     "metadata": {},
     "source": [
      "Button Style"
     ]
    },
    {
     "cell_type": "markdown",
     "metadata": {},
     "source": [
      "We will add a list of buttons"
     ]
    },
    {
     "cell_type": "code",
     "collapsed": false,
     "input": [
      "container = widgets.ContainerWidget()\n",
      "\n",
      "widget_1 = widgets.ButtonWidget(description=\"btn-default\")\n",
      "widget_2 = widgets.ButtonWidget(description=\"btn-primary\")\n",
      "widget_3 = widgets.ButtonWidget(description=\"btn-success\")\n",
      "widget_4 = widgets.ButtonWidget(description=\"btn-info\")\n",
      "widget_5 = widgets.ButtonWidget(description=\"btn-warning\")\n",
      "widget_6 = widgets.ButtonWidget(description=\"btn-danger\")\n",
      "widget_7 = widgets.ButtonWidget(description=\"btn-link\")\n",
      "\n",
      "container.children = (widget_1, widget_2, widget_3, widget_4, widget_5,\n",
      "                       widget_6, widget_7)\n",
      "\n",
      "container"
     ],
     "language": "python",
     "metadata": {},
     "outputs": [],
     "prompt_number": 4
    },
    {
     "cell_type": "code",
     "collapsed": false,
     "input": [
      "# Works for already displayed widgets\n",
      "widget_1.add_class(\"btn-default\")\n",
      "widget_2.add_class(\"btn-primary\")\n",
      "widget_3.add_class(\"btn-success\")\n",
      "widget_4.add_class(\"btn-info\")\n",
      "widget_5.add_class(\"btn-warning\")\n",
      "widget_6.add_class(\"btn-danger\")\n",
      "widget_7.add_class(\"btn-link\")"
     ],
     "language": "python",
     "metadata": {},
     "outputs": [],
     "prompt_number": 5
    },
    {
     "cell_type": "heading",
     "level": 4,
     "metadata": {},
     "source": [
      "Block Button"
     ]
    },
    {
     "cell_type": "code",
     "collapsed": false,
     "input": [
      "container = widgets.ContainerWidget()\n",
      "\n",
      "widget_1 = widgets.TextWidget(description=\"Name\")\n",
      "widget_2 = widgets.ButtonWidget(description=\"btn-block\")\n",
      "\n",
      "container.children = (widget_1, widget_2)\n",
      "\n",
      "container"
     ],
     "language": "python",
     "metadata": {},
     "outputs": [],
     "prompt_number": 6
    },
    {
     "cell_type": "code",
     "collapsed": false,
     "input": [
      "# Works for already displayed widgets\n",
      "widget_2.add_class(\"btn-primary\")\n",
      "widget_2.add_class(\"btn-block\")\n"
     ],
     "language": "python",
     "metadata": {},
     "outputs": [],
     "prompt_number": 7
    },
    {
     "cell_type": "heading",
     "level": 2,
     "metadata": {},
     "source": [
      "HTMLWidget"
     ]
    },
    {
     "cell_type": "heading",
     "level": 3,
     "metadata": {},
     "source": [
      "Labels"
     ]
    },
    {
     "cell_type": "code",
     "collapsed": false,
     "input": [
      "%%html\n",
      "<span class=\"label label-default\">Default</span>\n",
      "<span class=\"label label-success\">Success</span>\n",
      "<span class=\"label label-info\">Info</span>\n",
      "<span class=\"label label-warning\">Warning</span>"
     ],
     "language": "python",
     "metadata": {},
     "outputs": [
      {
       "html": [
        "<span class=\"label label-default\">Default</span>\n",
        "<span class=\"label label-success\">Success</span>\n",
        "<span class=\"label label-info\">Info</span>\n",
        "<span class=\"label label-warning\">Warning</span>"
       ],
       "metadata": {},
       "output_type": "display_data",
       "text": [
        "<IPython.core.display.HTML at 0x7fa25c094650>"
       ]
      }
     ],
     "prompt_number": 8
    },
    {
     "cell_type": "code",
     "collapsed": false,
     "input": [
      "html_code = \"\"\"\n",
      "<span class=\"label label-default\">Default</span>\n",
      "<span class=\"label label-success\">Success</span>\n",
      "<span class=\"label label-info\">Info</span>\n",
      "<span class=\"label label-warning\">Warning</span>\n",
      "\"\"\"\n",
      "\n",
      "container = widgets.ContainerWidget()\n",
      "\n",
      "widget_1 = widgets.HTMLWidget(value = html_code)\n",
      "\n",
      "container.children = (widget_1,)\n",
      "\n",
      "container"
     ],
     "language": "python",
     "metadata": {},
     "outputs": [],
     "prompt_number": 9
    },
    {
     "cell_type": "heading",
     "level": 3,
     "metadata": {},
     "source": [
      "Alerts"
     ]
    },
    {
     "cell_type": "code",
     "collapsed": false,
     "input": [
      "%%html\n",
      "<div class=\"alert alert-success alert-dismissible\" role=\"alert\">\n",
      "  <button type=\"button\" class=\"close\" data-dismiss=\"alert\">\n",
      "    <span aria-hidden=\"true\">&times;</span>\n",
      "  </button>\n",
      "  <strong>Calss: </strong>alert-success\n",
      "</div>\n",
      "<div class=\"alert alert-info\" role=\"alert\">\n",
      "  <button type=\"button\" class=\"close\" data-dismiss=\"alert\">\n",
      "    <span aria-hidden=\"true\">&times;</span>\n",
      "  </button>\n",
      "  <strong>Calss: </strong>alert-info\n",
      "</div>\n",
      "<div class=\"alert alert-warning\" role=\"alert\">\n",
      "  <button type=\"button\" class=\"close\" data-dismiss=\"alert\">\n",
      "    <span aria-hidden=\"true\">&times;</span>\n",
      "  </button>\n",
      "  <strong>Calss: </strong>alert-warning\n",
      "</div>\n",
      "<div class=\"alert alert-danger\" role=\"alert\">\n",
      "  <button type=\"button\" class=\"close\" data-dismiss=\"alert\">\n",
      "    <span aria-hidden=\"true\">&times;</span>\n",
      "  </button>\n",
      "  <strong>Calss: </strong>alert-danger\n",
      "</div>"
     ],
     "language": "python",
     "metadata": {},
     "outputs": [
      {
       "html": [
        "<div class=\"alert alert-success alert-dismissible\" role=\"alert\">\n",
        "  <button type=\"button\" class=\"close\" data-dismiss=\"alert\">\n",
        "    <span aria-hidden=\"true\">&times;</span>\n",
        "  </button>\n",
        "  <strong>Calss: </strong>alert-success\n",
        "</div>\n",
        "<div class=\"alert alert-info\" role=\"alert\">\n",
        "  <button type=\"button\" class=\"close\" data-dismiss=\"alert\">\n",
        "    <span aria-hidden=\"true\">&times;</span>\n",
        "  </button>\n",
        "  <strong>Calss: </strong>alert-info\n",
        "</div>\n",
        "<div class=\"alert alert-warning\" role=\"alert\">\n",
        "  <button type=\"button\" class=\"close\" data-dismiss=\"alert\">\n",
        "    <span aria-hidden=\"true\">&times;</span>\n",
        "  </button>\n",
        "  <strong>Calss: </strong>alert-warning\n",
        "</div>\n",
        "<div class=\"alert alert-danger\" role=\"alert\">\n",
        "  <button type=\"button\" class=\"close\" data-dismiss=\"alert\">\n",
        "    <span aria-hidden=\"true\">&times;</span>\n",
        "  </button>\n",
        "  <strong>Calss: </strong>alert-danger\n",
        "</div>"
       ],
       "metadata": {},
       "output_type": "display_data",
       "text": [
        "<IPython.core.display.HTML at 0x7fa25c0946d0>"
       ]
      }
     ],
     "prompt_number": 10
    },
    {
     "cell_type": "heading",
     "level": 2,
     "metadata": {},
     "source": [
      "Example Using HTML Widget"
     ]
    },
    {
     "cell_type": "code",
     "collapsed": false,
     "input": [
      "container = widgets.ContainerWidget()\n",
      "\n",
      "alert_code = \"\"\"\n",
      "<div class=\"alert alert-{type} alert-dismissible\" role=\"alert\">\n",
      "  <button type=\"button\" class=\"close\" data-dismiss=\"alert\">\n",
      "    <span aria-hidden=\"true\">&times;</span>\n",
      "  </button>\n",
      "  <strong>{title}: </strong>{message}\n",
      "</div>\n",
      "\"\"\"\n",
      "\n",
      "widget_1 = widgets.HTMLWidget()\n",
      "widget_2 = widgets.TextWidget(description=\"Name\")\n",
      "widget_3 = widgets.ButtonWidget(description=\"Save\")\n",
      "\n",
      "\n",
      "def save_form(widget):\n",
      "    widget_1.value = alert_code.format(type=\"success\",\n",
      "                                       title=\"Saved\",\n",
      "                                       message=\"Your form has been saved\",\n",
      "                                        )\n",
      "\n",
      "widget_3.on_click(save_form)\n",
      "\n",
      "container.children = (widget_1, widget_2, widget_3)\n",
      "\n",
      "container"
     ],
     "language": "python",
     "metadata": {},
     "outputs": [],
     "prompt_number": 11
    }
   ],
   "metadata": {}
  }
 ]
}
