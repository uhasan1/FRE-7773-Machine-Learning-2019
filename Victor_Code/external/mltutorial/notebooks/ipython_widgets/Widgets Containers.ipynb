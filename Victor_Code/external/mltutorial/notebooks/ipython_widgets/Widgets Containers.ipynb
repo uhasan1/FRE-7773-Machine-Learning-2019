{
 "metadata": {
  "name": "",
  "signature": "sha256:86b177a1169f7657f8166ad3eb039a5ba0ff60065882d4645ac3858d2bfa275f"
 },
 "nbformat": 3,
 "nbformat_minor": 0,
 "worksheets": [
  {
   "cells": [
    {
     "cell_type": "heading",
     "level": 1,
     "metadata": {},
     "source": [
      "Tutorial Brief"
     ]
    },
    {
     "cell_type": "markdown",
     "metadata": {},
     "source": [
      "In this tutorial we will cover the following containers and how to use them:\n",
      "\n",
      "- ContainerWidget\n",
      "- AccordionWidget\n",
      "- TabWidget\n",
      "- PopupWidget"
     ]
    },
    {
     "cell_type": "heading",
     "level": 1,
     "metadata": {},
     "source": [
      "Import the Library"
     ]
    },
    {
     "cell_type": "code",
     "collapsed": false,
     "input": [
      "from IPython.html import widgets"
     ],
     "language": "python",
     "metadata": {},
     "outputs": [],
     "prompt_number": 1
    },
    {
     "cell_type": "heading",
     "level": 2,
     "metadata": {},
     "source": [
      "`widgets.ContainerWidget`"
     ]
    },
    {
     "cell_type": "code",
     "collapsed": false,
     "input": [
      "container = widgets.ContainerWidget()"
     ],
     "language": "python",
     "metadata": {},
     "outputs": [],
     "prompt_number": 2
    },
    {
     "cell_type": "code",
     "collapsed": false,
     "input": [
      "control_1 = widgets.TextWidget(description=\"Name: \")\n",
      "control_2 = widgets.TextWidget(description=\"Email: \")\n",
      "control_3 = widgets.ButtonWidget(description=\"Submit\")\n",
      "\n",
      "container.children = [control_1, control_2, control_3]\n",
      "\n",
      "container"
     ],
     "language": "python",
     "metadata": {},
     "outputs": [],
     "prompt_number": 3
    },
    {
     "cell_type": "heading",
     "level": 2,
     "metadata": {},
     "source": [
      "`widgets.AccordionWidget`"
     ]
    },
    {
     "cell_type": "code",
     "collapsed": false,
     "input": [
      "container_1 = container\n",
      "\n",
      "container_2 = widgets.ContainerWidget()\n",
      "\n",
      "control_1 = widgets.TextWidget(description=\"Country: \")\n",
      "control_2 = widgets.TextWidget(description=\"State: \")\n",
      "control_3 = widgets.TextWidget(description=\"City: \")\n",
      "control_4 = widgets.ButtonWidget(description=\"Save\")\n",
      "\n",
      "container_2.children = [control_1, control_2, control_3, control_4]"
     ],
     "language": "python",
     "metadata": {},
     "outputs": [],
     "prompt_number": 4
    },
    {
     "cell_type": "code",
     "collapsed": false,
     "input": [
      "accordion = widgets.AccordionWidget()\n",
      "accordion.children = [container_1, container_2]\n",
      "accordion"
     ],
     "language": "python",
     "metadata": {},
     "outputs": [],
     "prompt_number": 5
    },
    {
     "cell_type": "code",
     "collapsed": false,
     "input": [
      "accordion.set_title(0, \"Personal Information\")\n",
      "accordion.set_title(1, \"Location\")"
     ],
     "language": "python",
     "metadata": {},
     "outputs": [],
     "prompt_number": 6
    },
    {
     "cell_type": "heading",
     "level": 2,
     "metadata": {},
     "source": [
      "`widgets.TabWidget`"
     ]
    },
    {
     "cell_type": "code",
     "collapsed": false,
     "input": [
      "tabs = widgets.TabWidget()\n",
      "tabs.children = [container_1, container_2]\n",
      "\n",
      "tabs"
     ],
     "language": "python",
     "metadata": {},
     "outputs": [],
     "prompt_number": 7
    },
    {
     "cell_type": "code",
     "collapsed": false,
     "input": [
      "tabs.set_title(0, \"Personal Information\")\n",
      "tabs.set_title(1, \"Location\")"
     ],
     "language": "python",
     "metadata": {},
     "outputs": [],
     "prompt_number": 8
    },
    {
     "cell_type": "heading",
     "level": 2,
     "metadata": {},
     "source": [
      "`widgets.PopupWidget`"
     ]
    },
    {
     "cell_type": "code",
     "collapsed": false,
     "input": [
      "popup = widgets.PopupWidget(description=\"Register Now!\")\n",
      "popup.children = [accordion]\n",
      "popup"
     ],
     "language": "python",
     "metadata": {},
     "outputs": [],
     "prompt_number": 9
    }
   ],
   "metadata": {}
  }
 ]
}
