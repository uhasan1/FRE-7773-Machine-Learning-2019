{
 "cells": [
  {
   "cell_type": "markdown",
   "metadata": {},
   "source": [
    "# IPython 3 (jupyter)\n",
    "\n",
    "**Video Toturial:** https://www.youtube.com/user/roshanRush\n",
    "\n",
    "Jupyter is an web-based interactive development environment. It support multiple programming languages like Julia, Octave, Python and R (In alphabetical order).\n",
    "\n",
    "## Upgrade to the new version\n",
    "\n",
    "```\n",
    "sudo pip install --upgrade \"ipython[all]\"\n",
    "```\n",
    "If you use `sudo pip install --upgrade ipython`, you might get **\"Terminal Unavailable\"** on **`New`** menu.\n",
    "\n",
    "## Enabling Python3\n",
    "\n",
    "You can add Python 3 kernel to jupyter by using this command:\n",
    "\n",
    "```\n",
    "sudo ipython3 kernelspec install-self\n",
    "```"
   ]
  },
  {
   "cell_type": "markdown",
   "metadata": {},
   "source": [
    "## Why is it called jupyter?\n",
    "\n",
    "<img src=\"images/jupyter-main-logo.svg\" style=\"width: 400px\"> \n",
    "\n",
    "The name represents the new direction of IPython development. They are moving away from linking the IPython platform with a single language. The way it currently works is as follows:"
   ]
  },
  {
   "cell_type": "markdown",
   "metadata": {},
   "source": [
    "![](images/kernel.png)\n"
   ]
  },
  {
   "cell_type": "markdown",
   "metadata": {},
   "source": [
    "$$Julia + Python + R = jupyter$$\n",
    "\n",
    "This is not to indicate that jupyter only supports these languages. But it is a reference to a [talk](http://youtu.be/JDrhn0-r9Eg?t=6m14s) by [Fernando Perez](https://twitter.com/fperez_org). The complete list is available [here](https://github.com/ipython/ipython/wiki/IPython-kernels-for-other-languages).\n",
    "\n",
    "\n",
    "### But there is another reason\n",
    "\n",
    "Galileo documented his observations about Jupiter's moons and published them in the Sidereus Nuncius (Starry Messenger) back in 1610 which was a pamphlet that he published. This was the first paper ever published about astronomy that used observations using a telescope. He proved that the Earth orbits the Sun like Jupiter's moons orbit Jupiter.\n",
    "\n",
    "> \"I therefore concluded and decided unhesitatingly, that there are three stars in the heavens moving about Jupiter, as Venus and Mercury round the Sun; which at length was established as clear as daylight by numerous subsequent observations. These observations also established that there are not only three, but four, erratic sidereal bodies performing their revolutions round Jupiter...the revolutions are so swift that an observer may generally get differences of position every hour.\"\n",
    ">\n",
    "> Galileo trans Carlos, 1880, p47. \n",
    "\n",
    "<img src=\"http://upload.wikimedia.org/wikipedia/commons/d/d0/Sidereus_Nuncius_Medicean_Stars.jpg\">\n",
    "<center>Image(s) courtesy of the History of Science Collections, University of Oklahoma Libraries.</center>\n",
    "\n",
    "Sharing these observations and conclusions in a way that can be replicated and verified inspired the modern scientific method. This is what IPython Notebooks are used for; sharing the complete process with others to verify your process and replicate the results.\n",
    "\n",
    "\n",
    "# So what's new?\n",
    "\n",
    "http://ipython.org/ipython-doc/3/whatsnew/version3.html\n",
    "\n",
    "> 3.x will be the last monolithic release of IPython, as the next release cycle will see the growing project split into its Python-specific and language-agnostic components.\n",
    ">\n",
    "> **http://ipython.org/ipython-doc/3/whatsnew/version3.html**\n",
    "\n",
    "## 1. Notebooks with different kernels\n",
    "https://github.com/ipython/ipython/wiki/IPython-kernels-for-other-languages\n",
    "\n",
    "![](http://ipython.org/ipython-doc/3/_images/kernel_selector_screenshot.png)\n",
    "## 2. Unicode Identifiers\n",
    "**Works with Python3 and Julia**\n",
    "\n",
    "To get `α` variable, type \\alpha Then Press Tab."
   ]
  },
  {
   "cell_type": "code",
   "execution_count": 1,
   "metadata": {
    "collapsed": false,
    "slideshow": {
     "slide_type": "slide"
    }
   },
   "outputs": [
    {
     "data": {
      "text/plain": [
       "0.5"
      ]
     },
     "execution_count": 1,
     "metadata": {},
     "output_type": "execute_result"
    }
   ],
   "source": [
    "α = 1 #\\alpha\n",
    "β = 2 #\\beta\n",
    "λ = 0 #\\lambda\n",
    "Λ = 0 #\\Lambda\n",
    "𝔞 = 0 #\\mfraka - Notice it is not monospaced - Thinner\n",
    "𝖰 = 0 #\\msansQ - Notice it is not monospaced - Wider\n",
    "α / β"
   ]
  },
  {
   "cell_type": "markdown",
   "metadata": {
    "slideshow": {
     "slide_type": "slide"
    }
   },
   "source": [
    "## 3. Widgets are **NOT** Backwards Compatible\n",
    "\n",
    "http://ipython.org/ipython-doc/3/whatsnew/version3_widget_migration.html\n",
    "\n",
    "## 4. No Header Cells\n",
    "You can now use heading inside a markdown cell and you will get a bookmark link on them.\n",
    "\n",
    "## 5. Text Editor\n",
    "A multilingual text editor has been added with highlighting for many programming and scripting languages.\n",
    "\n",
    "## 6. Static File Server\n",
    "You can serve static files using https://url:port/files/%FILE_PATH% like https://0.0.0.0:8888/files/myproject/README.html\n",
    "\n",
    "**<span style=\"color:red;\">Security Warning:</span>** Because Jupyter uses a static file server, it is advised that you use https even if you are running on localhost.\n",
    "\n",
    "But on the upside, you can start with exploring the data and end up with a running web-based application without leaving jupyter. You might not want to use this setup for production but it is perfect for development.\n",
    "\n",
    "## 7. Build-it Terminal\n",
    "You can start a terminal from jupyter to access your machine. Thanks to the development team for making it black background with white text.\n",
    "\n",
    "## 8. Jupyter Drive\n",
    "You can share jupyter notebooks from your Google Drive using the new [Jupyter Drive](https://github.com/jupyter/jupyter-drive). This allows you share jupyter notebooks like NBViewr with all the access control that Google Drive provides.\n",
    "\n",
    "You can also install [Jupyter Drive](https://github.com/jupyter/jupyter-drive) locally. This allows you to access Notebooks on your Google Drive or other Notebooks shared with you. It also allows you to access notebooks on you local machines."
   ]
  }
 ],
 "metadata": {
  "kernelspec": {
   "display_name": "Python 3",
   "language": "python",
   "name": "python3"
  },
  "language_info": {
   "codemirror_mode": {
    "name": "ipython",
    "version": 3
   },
   "file_extension": ".py",
   "mimetype": "text/x-python",
   "name": "python",
   "nbconvert_exporter": "python",
   "pygments_lexer": "ipython3",
   "version": "3.5.2"
  }
 },
 "nbformat": 4,
 "nbformat_minor": 0
}
