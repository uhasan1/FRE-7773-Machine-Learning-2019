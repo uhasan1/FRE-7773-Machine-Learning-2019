{
 "cells": [
  {
   "cell_type": "code",
   "execution_count": null,
   "metadata": {
    "collapsed": false
   },
   "outputs": [],
   "source": [
    "%%bash\n",
    "ipython nbconvert mynotebook.ipynb --to latex --template citations.tplx\n",
    "latex mynotebook.tex\n",
    "bibtex mynotebook.aux\n",
    "pdflatex mynotebook.tex\n",
    "pdflatex mynotebook.tex\n",
    "pdflatex mynotebook.tex"
   ]
  }
 ],
 "metadata": {
  "kernelspec": {
   "display_name": "Python 3",
   "language": "python",
   "name": "python3"
  },
  "language_info": {
   "codemirror_mode": {
    "name": "ipython",
    "version": 3
   },
   "file_extension": ".py",
   "mimetype": "text/x-python",
   "name": "python",
   "nbconvert_exporter": "python",
   "pygments_lexer": "ipython3",
   "version": "3.4.0"
  }
 },
 "nbformat": 4,
 "nbformat_minor": 0
}
