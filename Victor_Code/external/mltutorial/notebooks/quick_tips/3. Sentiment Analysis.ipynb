{
 "metadata": {
  "name": "",
  "signature": "sha256:4d925c45189783ac33d4472859cf2e8441fb82698b89e81a3850fa5bea529982"
 },
 "nbformat": 3,
 "nbformat_minor": 0,
 "worksheets": [
  {
   "cells": [
    {
     "cell_type": "heading",
     "level": 1,
     "metadata": {},
     "source": [
      "Tutorial Brief"
     ]
    },
    {
     "cell_type": "markdown",
     "metadata": {},
     "source": [
      "Using textblob library to perform basic sentement analysis.\n",
      "\n",
      "Text Blob Library Links:\n",
      "\n",
      "- Docs: http://textblob.readthedocs.org/en/dev/\n",
      "- PyPI: https://pypi.python.org/pypi/textblob"
     ]
    },
    {
     "cell_type": "heading",
     "level": 1,
     "metadata": {},
     "source": [
      "Import The Library"
     ]
    },
    {
     "cell_type": "code",
     "collapsed": false,
     "input": [
      "from textblob import TextBlob"
     ],
     "language": "python",
     "metadata": {},
     "outputs": [],
     "prompt_number": 1
    },
    {
     "cell_type": "heading",
     "level": 1,
     "metadata": {},
     "source": [
      "Making a `TextBlob` Object"
     ]
    },
    {
     "cell_type": "code",
     "collapsed": false,
     "input": [
      "sent = TextBlob(\"This tutorial is the best thing in the history of mankind\")\n",
      "sent"
     ],
     "language": "python",
     "metadata": {},
     "outputs": [
      {
       "metadata": {},
       "output_type": "pyout",
       "prompt_number": 2,
       "text": [
        "TextBlob(\"This tutorial is the best thing in the history of mankind\")"
       ]
      }
     ],
     "prompt_number": 2
    },
    {
     "cell_type": "heading",
     "level": 2,
     "metadata": {},
     "source": [
      "Measuring sentiments"
     ]
    },
    {
     "cell_type": "code",
     "collapsed": false,
     "input": [
      "sent.sentiment"
     ],
     "language": "python",
     "metadata": {},
     "outputs": [
      {
       "metadata": {},
       "output_type": "pyout",
       "prompt_number": 3,
       "text": [
        "Sentiment(polarity=1.0, subjectivity=0.3)"
       ]
      }
     ],
     "prompt_number": 3
    },
    {
     "cell_type": "code",
     "collapsed": false,
     "input": [
      "sent.polarity"
     ],
     "language": "python",
     "metadata": {},
     "outputs": [
      {
       "metadata": {},
       "output_type": "pyout",
       "prompt_number": 4,
       "text": [
        "1.0"
       ]
      }
     ],
     "prompt_number": 4
    },
    {
     "cell_type": "code",
     "collapsed": false,
     "input": [
      "sent.subjectivity"
     ],
     "language": "python",
     "metadata": {},
     "outputs": [
      {
       "metadata": {},
       "output_type": "pyout",
       "prompt_number": 5,
       "text": [
        "0.3"
       ]
      }
     ],
     "prompt_number": 5
    }
   ],
   "metadata": {}
  }
 ]
}
